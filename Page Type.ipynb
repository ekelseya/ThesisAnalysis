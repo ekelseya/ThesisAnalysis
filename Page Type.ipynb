{
 "cells": [
  {
   "cell_type": "code",
   "execution_count": 15,
   "metadata": {
    "scrolled": true
   },
   "outputs": [
    {
     "data": {
      "text/html": [
       "<div>\n",
       "<style scoped>\n",
       "    .dataframe tbody tr th:only-of-type {\n",
       "        vertical-align: middle;\n",
       "    }\n",
       "\n",
       "    .dataframe tbody tr th {\n",
       "        vertical-align: top;\n",
       "    }\n",
       "\n",
       "    .dataframe thead th {\n",
       "        text-align: right;\n",
       "    }\n",
       "</style>\n",
       "<table border=\"1\" class=\"dataframe\">\n",
       "  <thead>\n",
       "    <tr style=\"text-align: right;\">\n",
       "      <th></th>\n",
       "      <th>Unnamed: 0</th>\n",
       "      <th>Webpage</th>\n",
       "      <th>Page_Type</th>\n",
       "      <th>Institution</th>\n",
       "      <th>Funding</th>\n",
       "      <th>Tax_type</th>\n",
       "      <th>Region</th>\n",
       "      <th>Type</th>\n",
       "      <th>CU</th>\n",
       "      <th>CSU</th>\n",
       "      <th>CS_Department</th>\n",
       "      <th>CCCS</th>\n",
       "      <th>Elements</th>\n",
       "      <th>Errors</th>\n",
       "      <th>FR</th>\n",
       "      <th>FR_fitted</th>\n",
       "    </tr>\n",
       "  </thead>\n",
       "  <tbody>\n",
       "    <tr>\n",
       "      <th>0</th>\n",
       "      <td>0</td>\n",
       "      <td>https://www.adams.edu/</td>\n",
       "      <td>A</td>\n",
       "      <td>Adams State University</td>\n",
       "      <td>public</td>\n",
       "      <td>non-profit</td>\n",
       "      <td>Southwest</td>\n",
       "      <td>University</td>\n",
       "      <td>no</td>\n",
       "      <td>no</td>\n",
       "      <td>yes</td>\n",
       "      <td>no</td>\n",
       "      <td>698</td>\n",
       "      <td>1</td>\n",
       "      <td>0.001433</td>\n",
       "      <td>0.900164</td>\n",
       "    </tr>\n",
       "    <tr>\n",
       "      <th>1</th>\n",
       "      <td>1</td>\n",
       "      <td>https://www.adams.edu/academics/</td>\n",
       "      <td>C</td>\n",
       "      <td>Adams State University</td>\n",
       "      <td>public</td>\n",
       "      <td>non-profit</td>\n",
       "      <td>Southwest</td>\n",
       "      <td>University</td>\n",
       "      <td>no</td>\n",
       "      <td>no</td>\n",
       "      <td>yes</td>\n",
       "      <td>no</td>\n",
       "      <td>729</td>\n",
       "      <td>1</td>\n",
       "      <td>0.001372</td>\n",
       "      <td>0.891194</td>\n",
       "    </tr>\n",
       "    <tr>\n",
       "      <th>2</th>\n",
       "      <td>2</td>\n",
       "      <td>https://www.adams.edu/academics/graduate/couns...</td>\n",
       "      <td>D</td>\n",
       "      <td>Adams State University</td>\n",
       "      <td>public</td>\n",
       "      <td>non-profit</td>\n",
       "      <td>Southwest</td>\n",
       "      <td>University</td>\n",
       "      <td>no</td>\n",
       "      <td>no</td>\n",
       "      <td>yes</td>\n",
       "      <td>no</td>\n",
       "      <td>507</td>\n",
       "      <td>1</td>\n",
       "      <td>0.001972</td>\n",
       "      <td>0.969114</td>\n",
       "    </tr>\n",
       "    <tr>\n",
       "      <th>3</th>\n",
       "      <td>3</td>\n",
       "      <td>https://www.adams.edu/catalog/</td>\n",
       "      <td>C</td>\n",
       "      <td>Adams State University</td>\n",
       "      <td>public</td>\n",
       "      <td>non-profit</td>\n",
       "      <td>Southwest</td>\n",
       "      <td>University</td>\n",
       "      <td>no</td>\n",
       "      <td>no</td>\n",
       "      <td>yes</td>\n",
       "      <td>no</td>\n",
       "      <td>512</td>\n",
       "      <td>1</td>\n",
       "      <td>0.001953</td>\n",
       "      <td>0.966918</td>\n",
       "    </tr>\n",
       "    <tr>\n",
       "      <th>4</th>\n",
       "      <td>4</td>\n",
       "      <td>https://www.adams.edu/faculty-staff/</td>\n",
       "      <td>C</td>\n",
       "      <td>Adams State University</td>\n",
       "      <td>public</td>\n",
       "      <td>non-profit</td>\n",
       "      <td>Southwest</td>\n",
       "      <td>University</td>\n",
       "      <td>no</td>\n",
       "      <td>no</td>\n",
       "      <td>yes</td>\n",
       "      <td>no</td>\n",
       "      <td>645</td>\n",
       "      <td>1</td>\n",
       "      <td>0.001550</td>\n",
       "      <td>0.916706</td>\n",
       "    </tr>\n",
       "  </tbody>\n",
       "</table>\n",
       "</div>"
      ],
      "text/plain": [
       "   Unnamed: 0                                            Webpage Page_Type  \\\n",
       "0           0                             https://www.adams.edu/         A   \n",
       "1           1                   https://www.adams.edu/academics/         C   \n",
       "2           2  https://www.adams.edu/academics/graduate/couns...         D   \n",
       "3           3                     https://www.adams.edu/catalog/         C   \n",
       "4           4               https://www.adams.edu/faculty-staff/         C   \n",
       "\n",
       "              Institution Funding    Tax_type     Region        Type  CU CSU  \\\n",
       "0  Adams State University  public  non-profit  Southwest  University  no  no   \n",
       "1  Adams State University  public  non-profit  Southwest  University  no  no   \n",
       "2  Adams State University  public  non-profit  Southwest  University  no  no   \n",
       "3  Adams State University  public  non-profit  Southwest  University  no  no   \n",
       "4  Adams State University  public  non-profit  Southwest  University  no  no   \n",
       "\n",
       "  CS_Department CCCS  Elements  Errors        FR  FR_fitted  \n",
       "0           yes   no       698       1  0.001433   0.900164  \n",
       "1           yes   no       729       1  0.001372   0.891194  \n",
       "2           yes   no       507       1  0.001972   0.969114  \n",
       "3           yes   no       512       1  0.001953   0.966918  \n",
       "4           yes   no       645       1  0.001550   0.916706  "
      ]
     },
     "execution_count": 15,
     "metadata": {},
     "output_type": "execute_result"
    }
   ],
   "source": [
    "import numpy as np\n",
    "import pandas as pd\n",
    "import statsmodels.api as sm\n",
    "from statsmodels.formula.api import ols\n",
    "import researchpy as rp\n",
    "from scipy import stats\n",
    "from statsmodels.stats.multicomp import pairwise_tukeyhsd\n",
    "\n",
    "# Read in csv\n",
    "df = pd.read_csv('fittedFailureRate.csv', encoding='unicode_escape')\n",
    "df.head()"
   ]
  },
  {
   "cell_type": "code",
   "execution_count": 3,
   "metadata": {},
   "outputs": [
    {
     "data": {
      "text/plain": [
       "Page_Type\n",
       "A    0.023727\n",
       "B    0.018563\n",
       "C    0.026805\n",
       "D    0.020625\n",
       "Name: FR, dtype: float64"
      ]
     },
     "execution_count": 3,
     "metadata": {},
     "output_type": "execute_result"
    }
   ],
   "source": [
    "df.groupby('Page_Type')['FR'].mean()"
   ]
  },
  {
   "cell_type": "code",
   "execution_count": 4,
   "metadata": {},
   "outputs": [
    {
     "data": {
      "text/plain": [
       "Page_Type\n",
       "A    0.021291\n",
       "B    0.028758\n",
       "C    0.030352\n",
       "D    0.024858\n",
       "Name: FR, dtype: float64"
      ]
     },
     "execution_count": 4,
     "metadata": {},
     "output_type": "execute_result"
    }
   ],
   "source": [
    "df.groupby('Page_Type')['FR'].std()"
   ]
  },
  {
   "cell_type": "code",
   "execution_count": 5,
   "metadata": {
    "scrolled": true
   },
   "outputs": [
    {
     "data": {
      "text/plain": [
       "Page_Type\n",
       "A    0.000453\n",
       "B    0.000827\n",
       "C    0.000921\n",
       "D    0.000618\n",
       "Name: FR, dtype: float64"
      ]
     },
     "execution_count": 5,
     "metadata": {},
     "output_type": "execute_result"
    }
   ],
   "source": [
    "df.groupby('Page_Type')['FR'].var()"
   ]
  },
  {
   "cell_type": "code",
   "execution_count": 6,
   "metadata": {
    "scrolled": false
   },
   "outputs": [
    {
     "data": {
      "text/plain": [
       "Page_Type\n",
       "A     54\n",
       "B     27\n",
       "C    353\n",
       "D    106\n",
       "Name: FR, dtype: int64"
      ]
     },
     "execution_count": 6,
     "metadata": {},
     "output_type": "execute_result"
    }
   ],
   "source": [
    "df.groupby('Page_Type')['FR'].count()"
   ]
  },
  {
   "cell_type": "code",
   "execution_count": 16,
   "metadata": {},
   "outputs": [
    {
     "name": "stdout",
     "output_type": "stream",
     "text": [
      "Multiple Comparison of Means - Tukey HSD, FWER=0.05\n",
      "===================================================\n",
      "group1 group2 meandiff p-adj   lower  upper  reject\n",
      "---------------------------------------------------\n",
      "     A      B    -0.17 0.4267 -0.4578 0.1179  False\n",
      "     A      C   0.0251    0.9 -0.1534 0.2036  False\n",
      "     A      D  -0.1331 0.3354 -0.3373 0.0711  False\n",
      "     B      C   0.1951 0.1674 -0.0488  0.439  False\n",
      "     B      D   0.0369    0.9 -0.2264 0.3001  False\n",
      "     C      D  -0.1582 0.0143 -0.2935 -0.023   True\n",
      "---------------------------------------------------\n"
     ]
    }
   ],
   "source": [
    "print(pairwise_tukeyhsd(endog=df['FR_fitted'], groups=df['Page_Type'], alpha=0.05))"
   ]
  },
  {
   "cell_type": "code",
   "execution_count": 7,
   "metadata": {
    "scrolled": true
   },
   "outputs": [
    {
     "name": "stdout",
     "output_type": "stream",
     "text": [
      "     Variable      N      Mean        SD        SE  95% Conf.  Interval\n",
      "0   Home Page   54.0  1.574534  0.444771  0.060526   1.453135  1.695934\n",
      "1  All others  486.0  1.554296  0.481798  0.021855   1.511355  1.597238\n",
      "2    combined  540.0  1.556320  0.477872  0.020564   1.515924  1.596716\n",
      "                       Independent t-test   results\n",
      "0  Difference (Home Page - All others) =     0.0202\n",
      "1                   Degrees of freedom =   538.0000\n",
      "2                                    t =     0.2950\n",
      "3                Two side test p value =     0.7681\n",
      "4               Difference < 0 p value =     0.6159\n",
      "5               Difference > 0 p value =     0.3841\n",
      "6                            Cohen's d =     0.0423\n",
      "7                            Hedge's g =     0.0423\n",
      "8                       Glass's delta1 =     0.0455\n",
      "9                     Point-Biserial r =     0.0127\n"
     ]
    },
    {
     "name": "stderr",
     "output_type": "stream",
     "text": [
      "C:\\Users\\ekelseya\\anaconda3\\lib\\site-packages\\researchpy\\ttest.py:38: FutureWarning: The series.append method is deprecated and will be removed from pandas in a future version. Use pandas.concat instead.\n",
      "  groups = group1.append(group2, ignore_index= True)\n"
     ]
    }
   ],
   "source": [
    "summary, results = rp.ttest(group1=df['FR_fitted'][df['Page_Type'] == 'A'], group1_name=\"Home Page\",\n",
    "                            group2=df['FR_fitted'][df['Page_Type'] != 'A'], group2_name=\"All others\")\n",
    "print(summary)\n",
    "print(results)\n",
    "\n",
    "# No correlation"
   ]
  },
  {
   "cell_type": "code",
   "execution_count": 8,
   "metadata": {
    "scrolled": true
   },
   "outputs": [
    {
     "data": {
      "text/plain": [
       "Ttest_indResult(statistic=0.294988824630058, pvalue=0.7681162151607215)"
      ]
     },
     "execution_count": 8,
     "metadata": {},
     "output_type": "execute_result"
    }
   ],
   "source": [
    "stats.ttest_ind(df['FR_fitted'][df['Page_Type'] == 'A'],\n",
    "                df['FR_fitted'][df['Page_Type'] != 'A'])"
   ]
  },
  {
   "cell_type": "code",
   "execution_count": 9,
   "metadata": {
    "scrolled": true
   },
   "outputs": [
    {
     "name": "stdout",
     "output_type": "stream",
     "text": [
      "     Variable      N      Mean        SD        SE  95% Conf.  Interval\n",
      "0  Subdomains   27.0  1.404565  0.499758  0.096178   1.206867  1.602262\n",
      "1  All others  513.0  1.564307  0.475860  0.021010   1.523031  1.605583\n",
      "2    combined  540.0  1.556320  0.477872  0.020564   1.515924  1.596716\n",
      "                        Independent t-test   results\n",
      "0  Difference (Subdomains - All others) =    -0.1597\n",
      "1                    Degrees of freedom =   538.0000\n",
      "2                                     t =    -1.6959\n",
      "3                 Two side test p value =     0.0905\n",
      "4                Difference < 0 p value =     0.0452\n",
      "5                Difference > 0 p value =     0.9548\n",
      "6                             Cohen's d =    -0.3349\n",
      "7                             Hedge's g =    -0.3344\n",
      "8                        Glass's delta1 =    -0.3196\n",
      "9                      Point-Biserial r =    -0.0729\n"
     ]
    },
    {
     "name": "stderr",
     "output_type": "stream",
     "text": [
      "C:\\Users\\ekelseya\\anaconda3\\lib\\site-packages\\researchpy\\ttest.py:38: FutureWarning: The series.append method is deprecated and will be removed from pandas in a future version. Use pandas.concat instead.\n",
      "  groups = group1.append(group2, ignore_index= True)\n"
     ]
    }
   ],
   "source": [
    "summary, results = rp.ttest(group1=df['FR_fitted'][df['Page_Type'] == 'B'], group1_name=\"Subdomains\",\n",
    "                            group2=df['FR_fitted'][df['Page_Type'] != 'B'], group2_name=\"All others\")\n",
    "print(summary)\n",
    "print(results)\n",
    "\n",
    "# No correlation"
   ]
  },
  {
   "cell_type": "code",
   "execution_count": 10,
   "metadata": {
    "scrolled": true
   },
   "outputs": [
    {
     "data": {
      "text/plain": [
       "Ttest_indResult(statistic=-1.6959254464732028, pvalue=0.09047852339254574)"
      ]
     },
     "execution_count": 10,
     "metadata": {},
     "output_type": "execute_result"
    }
   ],
   "source": [
    "stats.ttest_ind(df['FR_fitted'][df['Page_Type'] == 'B'],\n",
    "                df['FR_fitted'][df['Page_Type'] != 'B'])"
   ]
  },
  {
   "cell_type": "code",
   "execution_count": 11,
   "metadata": {
    "scrolled": false
   },
   "outputs": [
    {
     "name": "stdout",
     "output_type": "stream",
     "text": [
      "             Variable      N      Mean        SD        SE  95% Conf.  \\\n",
      "0  One Directory Down  353.0  1.599645  0.462232  0.024602   1.551259   \n",
      "1          All others  187.0  1.474536  0.497119  0.036353   1.402819   \n",
      "2            combined  540.0  1.556320  0.477872  0.020564   1.515924   \n",
      "\n",
      "   Interval  \n",
      "0  1.648031  \n",
      "1  1.546253  \n",
      "2  1.596716  \n",
      "                                Independent t-test   results\n",
      "0  Difference (One Directory Down - All others) =     0.1251\n",
      "1                            Degrees of freedom =   538.0000\n",
      "2                                             t =     2.9147\n",
      "3                         Two side test p value =     0.0037\n",
      "4                        Difference < 0 p value =     0.9981\n",
      "5                        Difference > 0 p value =     0.0019\n",
      "6                                     Cohen's d =     0.2636\n",
      "7                                     Hedge's g =     0.2633\n",
      "8                                Glass's delta1 =     0.2707\n",
      "9                              Point-Biserial r =     0.1247\n"
     ]
    },
    {
     "name": "stderr",
     "output_type": "stream",
     "text": [
      "C:\\Users\\ekelseya\\anaconda3\\lib\\site-packages\\researchpy\\ttest.py:38: FutureWarning: The series.append method is deprecated and will be removed from pandas in a future version. Use pandas.concat instead.\n",
      "  groups = group1.append(group2, ignore_index= True)\n"
     ]
    }
   ],
   "source": [
    "summary, results = rp.ttest(group1=df['FR_fitted'][df['Page_Type'] == 'C'], group1_name=\"One Directory Down\",\n",
    "                            group2=df['FR_fitted'][df['Page_Type'] != 'C'], group2_name=\"All others\")\n",
    "print(summary)\n",
    "print(results)\n",
    "\n",
    "# Correlation\n",
    "# > small effect"
   ]
  },
  {
   "cell_type": "code",
   "execution_count": 12,
   "metadata": {
    "scrolled": true
   },
   "outputs": [
    {
     "data": {
      "text/plain": [
       "Ttest_indResult(statistic=2.914652126588466, pvalue=0.003709108742225079)"
      ]
     },
     "execution_count": 12,
     "metadata": {},
     "output_type": "execute_result"
    }
   ],
   "source": [
    "stats.ttest_ind(df['FR_fitted'][df['Page_Type'] == 'C'],\n",
    "                df['FR_fitted'][df['Page_Type'] != 'C'])"
   ]
  },
  {
   "cell_type": "code",
   "execution_count": 13,
   "metadata": {
    "scrolled": true
   },
   "outputs": [
    {
     "name": "stdout",
     "output_type": "stream",
     "text": [
      "           Variable      N      Mean        SD        SE  95% Conf.  Interval\n",
      "0        All others  434.0  1.584384  0.463809  0.022264   1.540626  1.628142\n",
      "1  Two+ Directories  106.0  1.441416  0.518230  0.050335   1.341611  1.541221\n",
      "2          combined  540.0  1.556320  0.477872  0.020564   1.515924  1.596716\n",
      "                              Independent t-test   results\n",
      "0  Difference (All others - Two+ Directories) =     0.1430\n",
      "1                          Degrees of freedom =   538.0000\n",
      "2                                           t =     2.7786\n",
      "3                       Two side test p value =     0.0057\n",
      "4                      Difference < 0 p value =     0.9972\n",
      "5                      Difference > 0 p value =     0.0028\n",
      "6                                   Cohen's d =     0.3010\n",
      "7                                   Hedge's g =     0.3006\n",
      "8                              Glass's delta1 =     0.3082\n",
      "9                            Point-Biserial r =     0.1189\n"
     ]
    },
    {
     "name": "stderr",
     "output_type": "stream",
     "text": [
      "C:\\Users\\ekelseya\\anaconda3\\lib\\site-packages\\researchpy\\ttest.py:38: FutureWarning: The series.append method is deprecated and will be removed from pandas in a future version. Use pandas.concat instead.\n",
      "  groups = group1.append(group2, ignore_index= True)\n"
     ]
    }
   ],
   "source": [
    "summary, results = rp.ttest(group1=df['FR_fitted'][df['Page_Type'] != 'D'], group1_name=\"All others\",\n",
    "                            group2=df['FR_fitted'][df['Page_Type'] == 'D'], group2_name=\"Two+ Directories\")\n",
    "print(summary)\n",
    "print(results)\n",
    "\n",
    "# Correlation \n",
    "# < medium effect"
   ]
  },
  {
   "cell_type": "code",
   "execution_count": 14,
   "metadata": {
    "scrolled": true
   },
   "outputs": [
    {
     "data": {
      "text/plain": [
       "Ttest_indResult(statistic=-2.7785535247873545, pvalue=0.005650929497092892)"
      ]
     },
     "execution_count": 14,
     "metadata": {},
     "output_type": "execute_result"
    }
   ],
   "source": [
    "stats.ttest_ind(df['FR_fitted'][df['Page_Type'] == 'D'],\n",
    "                df['FR_fitted'][df['Page_Type'] != 'D'])"
   ]
  }
 ],
 "metadata": {
  "kernelspec": {
   "display_name": "Python 3",
   "language": "python",
   "name": "python3"
  },
  "language_info": {
   "codemirror_mode": {
    "name": "ipython",
    "version": 3
   },
   "file_extension": ".py",
   "mimetype": "text/x-python",
   "name": "python",
   "nbconvert_exporter": "python",
   "pygments_lexer": "ipython3",
   "version": "3.8.5"
  }
 },
 "nbformat": 4,
 "nbformat_minor": 4
}
