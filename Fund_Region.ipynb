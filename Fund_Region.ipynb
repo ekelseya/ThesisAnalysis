{
 "cells": [
  {
   "cell_type": "code",
   "execution_count": 81,
   "metadata": {},
   "outputs": [
    {
     "data": {
      "text/html": [
       "<div>\n",
       "<style scoped>\n",
       "    .dataframe tbody tr th:only-of-type {\n",
       "        vertical-align: middle;\n",
       "    }\n",
       "\n",
       "    .dataframe tbody tr th {\n",
       "        vertical-align: top;\n",
       "    }\n",
       "\n",
       "    .dataframe thead th {\n",
       "        text-align: right;\n",
       "    }\n",
       "</style>\n",
       "<table border=\"1\" class=\"dataframe\">\n",
       "  <thead>\n",
       "    <tr style=\"text-align: right;\">\n",
       "      <th></th>\n",
       "      <th>Unnamed: 0</th>\n",
       "      <th>Webpage</th>\n",
       "      <th>Page_Type</th>\n",
       "      <th>Institution</th>\n",
       "      <th>Funding</th>\n",
       "      <th>Tax_type</th>\n",
       "      <th>Region</th>\n",
       "      <th>Type</th>\n",
       "      <th>CU</th>\n",
       "      <th>CSU</th>\n",
       "      <th>CS_Department</th>\n",
       "      <th>CCCS</th>\n",
       "      <th>Elements</th>\n",
       "      <th>Errors</th>\n",
       "      <th>FR</th>\n",
       "      <th>FR_fitted</th>\n",
       "      <th>FundRegion</th>\n",
       "    </tr>\n",
       "  </thead>\n",
       "  <tbody>\n",
       "    <tr>\n",
       "      <th>0</th>\n",
       "      <td>0</td>\n",
       "      <td>https://www.adams.edu/</td>\n",
       "      <td>A</td>\n",
       "      <td>Adams State University</td>\n",
       "      <td>public</td>\n",
       "      <td>non-profit</td>\n",
       "      <td>Southwest</td>\n",
       "      <td>University</td>\n",
       "      <td>no</td>\n",
       "      <td>no</td>\n",
       "      <td>yes</td>\n",
       "      <td>no</td>\n",
       "      <td>698</td>\n",
       "      <td>1</td>\n",
       "      <td>0.001433</td>\n",
       "      <td>0.900164</td>\n",
       "      <td>publicSouthwest</td>\n",
       "    </tr>\n",
       "    <tr>\n",
       "      <th>1</th>\n",
       "      <td>1</td>\n",
       "      <td>https://www.adams.edu/academics/</td>\n",
       "      <td>C</td>\n",
       "      <td>Adams State University</td>\n",
       "      <td>public</td>\n",
       "      <td>non-profit</td>\n",
       "      <td>Southwest</td>\n",
       "      <td>University</td>\n",
       "      <td>no</td>\n",
       "      <td>no</td>\n",
       "      <td>yes</td>\n",
       "      <td>no</td>\n",
       "      <td>729</td>\n",
       "      <td>1</td>\n",
       "      <td>0.001372</td>\n",
       "      <td>0.891194</td>\n",
       "      <td>publicSouthwest</td>\n",
       "    </tr>\n",
       "    <tr>\n",
       "      <th>2</th>\n",
       "      <td>2</td>\n",
       "      <td>https://www.adams.edu/academics/graduate/couns...</td>\n",
       "      <td>D</td>\n",
       "      <td>Adams State University</td>\n",
       "      <td>public</td>\n",
       "      <td>non-profit</td>\n",
       "      <td>Southwest</td>\n",
       "      <td>University</td>\n",
       "      <td>no</td>\n",
       "      <td>no</td>\n",
       "      <td>yes</td>\n",
       "      <td>no</td>\n",
       "      <td>507</td>\n",
       "      <td>1</td>\n",
       "      <td>0.001972</td>\n",
       "      <td>0.969114</td>\n",
       "      <td>publicSouthwest</td>\n",
       "    </tr>\n",
       "    <tr>\n",
       "      <th>3</th>\n",
       "      <td>3</td>\n",
       "      <td>https://www.adams.edu/catalog/</td>\n",
       "      <td>C</td>\n",
       "      <td>Adams State University</td>\n",
       "      <td>public</td>\n",
       "      <td>non-profit</td>\n",
       "      <td>Southwest</td>\n",
       "      <td>University</td>\n",
       "      <td>no</td>\n",
       "      <td>no</td>\n",
       "      <td>yes</td>\n",
       "      <td>no</td>\n",
       "      <td>512</td>\n",
       "      <td>1</td>\n",
       "      <td>0.001953</td>\n",
       "      <td>0.966918</td>\n",
       "      <td>publicSouthwest</td>\n",
       "    </tr>\n",
       "    <tr>\n",
       "      <th>4</th>\n",
       "      <td>4</td>\n",
       "      <td>https://www.adams.edu/faculty-staff/</td>\n",
       "      <td>C</td>\n",
       "      <td>Adams State University</td>\n",
       "      <td>public</td>\n",
       "      <td>non-profit</td>\n",
       "      <td>Southwest</td>\n",
       "      <td>University</td>\n",
       "      <td>no</td>\n",
       "      <td>no</td>\n",
       "      <td>yes</td>\n",
       "      <td>no</td>\n",
       "      <td>645</td>\n",
       "      <td>1</td>\n",
       "      <td>0.001550</td>\n",
       "      <td>0.916706</td>\n",
       "      <td>publicSouthwest</td>\n",
       "    </tr>\n",
       "  </tbody>\n",
       "</table>\n",
       "</div>"
      ],
      "text/plain": [
       "   Unnamed: 0                                            Webpage Page_Type  \\\n",
       "0           0                             https://www.adams.edu/         A   \n",
       "1           1                   https://www.adams.edu/academics/         C   \n",
       "2           2  https://www.adams.edu/academics/graduate/couns...         D   \n",
       "3           3                     https://www.adams.edu/catalog/         C   \n",
       "4           4               https://www.adams.edu/faculty-staff/         C   \n",
       "\n",
       "              Institution Funding    Tax_type     Region        Type  CU CSU  \\\n",
       "0  Adams State University  public  non-profit  Southwest  University  no  no   \n",
       "1  Adams State University  public  non-profit  Southwest  University  no  no   \n",
       "2  Adams State University  public  non-profit  Southwest  University  no  no   \n",
       "3  Adams State University  public  non-profit  Southwest  University  no  no   \n",
       "4  Adams State University  public  non-profit  Southwest  University  no  no   \n",
       "\n",
       "  CS_Department CCCS  Elements  Errors        FR  FR_fitted       FundRegion  \n",
       "0           yes   no       698       1  0.001433   0.900164  publicSouthwest  \n",
       "1           yes   no       729       1  0.001372   0.891194  publicSouthwest  \n",
       "2           yes   no       507       1  0.001972   0.969114  publicSouthwest  \n",
       "3           yes   no       512       1  0.001953   0.966918  publicSouthwest  \n",
       "4           yes   no       645       1  0.001550   0.916706  publicSouthwest  "
      ]
     },
     "execution_count": 81,
     "metadata": {},
     "output_type": "execute_result"
    }
   ],
   "source": [
    "import numpy as np\n",
    "import pandas as pd\n",
    "import statsmodels.api as sm\n",
    "from statsmodels.formula.api import ols\n",
    "import researchpy as rp\n",
    "from scipy import stats\n",
    "from statsmodels.stats.multicomp import pairwise_tukeyhsd\n",
    "\n",
    "# Read in csv\n",
    "df = pd.read_csv('fittedFailureRate.csv', encoding='unicode_escape')\n",
    "df['FundRegion'] = df['Funding'] + df['Region']\n",
    "df.head()"
   ]
  },
  {
   "cell_type": "code",
   "execution_count": 76,
   "metadata": {},
   "outputs": [
    {
     "data": {
      "text/plain": [
       "Funding  Region       \n",
       "private  Metro            0.035815\n",
       "         Online           0.009687\n",
       "         Pikes Peak       0.012795\n",
       "public   Metro            0.027314\n",
       "         North Central    0.019011\n",
       "         Northeast        0.010455\n",
       "         Northwest        0.018777\n",
       "         Online           0.019680\n",
       "         Pikes Peak       0.010626\n",
       "         Southeast        0.006828\n",
       "         Southwest        0.004244\n",
       "         West Central     0.028983\n",
       "Name: FR, dtype: float64"
      ]
     },
     "execution_count": 76,
     "metadata": {},
     "output_type": "execute_result"
    }
   ],
   "source": [
    "df.groupby(['Funding','Region'])['FR'].mean()"
   ]
  },
  {
   "cell_type": "code",
   "execution_count": 77,
   "metadata": {},
   "outputs": [
    {
     "data": {
      "text/plain": [
       "Funding  Region       \n",
       "private  Metro            0.033675\n",
       "         Online           0.023627\n",
       "         Pikes Peak       0.012959\n",
       "public   Metro            0.028074\n",
       "         North Central    0.024046\n",
       "         Northeast        0.004513\n",
       "         Northwest        0.010162\n",
       "         Online           0.013510\n",
       "         Pikes Peak       0.007132\n",
       "         Southeast        0.007874\n",
       "         Southwest        0.003999\n",
       "         West Central     0.033075\n",
       "Name: FR, dtype: float64"
      ]
     },
     "execution_count": 77,
     "metadata": {},
     "output_type": "execute_result"
    }
   ],
   "source": [
    "df.groupby(['Funding','Region'])['FR'].std()"
   ]
  },
  {
   "cell_type": "code",
   "execution_count": 78,
   "metadata": {},
   "outputs": [
    {
     "data": {
      "text/plain": [
       "Funding  Region       \n",
       "private  Metro            0.001134\n",
       "         Online           0.000558\n",
       "         Pikes Peak       0.000168\n",
       "public   Metro            0.000788\n",
       "         North Central    0.000578\n",
       "         Northeast        0.000020\n",
       "         Northwest        0.000103\n",
       "         Online           0.000183\n",
       "         Pikes Peak       0.000051\n",
       "         Southeast        0.000062\n",
       "         Southwest        0.000016\n",
       "         West Central     0.001094\n",
       "Name: FR, dtype: float64"
      ]
     },
     "execution_count": 78,
     "metadata": {},
     "output_type": "execute_result"
    }
   ],
   "source": [
    "df.groupby(['Funding','Region'])['FR'].var()"
   ]
  },
  {
   "cell_type": "code",
   "execution_count": 79,
   "metadata": {
    "scrolled": false
   },
   "outputs": [
    {
     "data": {
      "text/plain": [
       "Funding  Region       \n",
       "private  Metro            190\n",
       "         Online            10\n",
       "         Pikes Peak        20\n",
       "public   Metro            120\n",
       "         North Central     40\n",
       "         Northeast         10\n",
       "         Northwest         20\n",
       "         Online            10\n",
       "         Pikes Peak        40\n",
       "         Southeast         20\n",
       "         Southwest         30\n",
       "         West Central      30\n",
       "Name: FR, dtype: int64"
      ]
     },
     "execution_count": 79,
     "metadata": {},
     "output_type": "execute_result"
    }
   ],
   "source": [
    "df.groupby(['Funding','Region'])['FR'].count()"
   ]
  },
  {
   "cell_type": "code",
   "execution_count": 82,
   "metadata": {},
   "outputs": [
    {
     "name": "stdout",
     "output_type": "stream",
     "text": [
      "             Multiple Comparison of Means - Tukey HSD, FWER=0.05              \n",
      "==============================================================================\n",
      "       group1              group2       meandiff p-adj   lower   upper  reject\n",
      "------------------------------------------------------------------------------\n",
      "       privateMetro       privateOnline  -0.6309  0.001 -1.0955 -0.1663   True\n",
      "       privateMetro   privatePikes Peak  -0.4964  0.001 -0.8331 -0.1598   True\n",
      "       privateMetro         publicMetro  -0.1523 0.1138 -0.3192  0.0147  False\n",
      "       privateMetro publicNorth Central  -0.2424 0.0653 -0.4915  0.0067  False\n",
      "       privateMetro     publicNortheast   -0.348 0.3706 -0.8126  0.1166  False\n",
      "       privateMetro     publicNorthwest  -0.1544    0.9  -0.491  0.1823  False\n",
      "       privateMetro        publicOnline  -0.3739 0.2593 -0.8385  0.0907  False\n",
      "       privateMetro    publicPikes Peak  -0.3922  0.001 -0.6413  -0.143   True\n",
      "       privateMetro     publicSoutheast  -0.5492  0.001 -0.8858 -0.2125   True\n",
      "       privateMetro     publicSouthwest  -0.6678  0.001 -0.9491 -0.3864   True\n",
      "       privateMetro  publicWest Central  -0.1738 0.6509 -0.4551  0.1076  False\n",
      "      privateOnline   privatePikes Peak   0.1345    0.9 -0.4201  0.6891  False\n",
      "      privateOnline         publicMetro   0.4787 0.0429  0.0073    0.95   True\n",
      "      privateOnline publicNorth Central   0.3885 0.3305 -0.1178  0.8948  False\n",
      "      privateOnline     publicNortheast   0.2829    0.9 -0.3575  0.9233  False\n",
      "      privateOnline     publicNorthwest   0.4765 0.1747 -0.0781  1.0312  False\n",
      "      privateOnline        publicOnline    0.257    0.9 -0.3834  0.8974  False\n",
      "      privateOnline    publicPikes Peak   0.2387    0.9 -0.2676   0.745  False\n",
      "      privateOnline     publicSoutheast   0.0817    0.9 -0.4729  0.6363  False\n",
      "      privateOnline     publicSouthwest  -0.0369    0.9 -0.5598   0.486  False\n",
      "      privateOnline  publicWest Central   0.4571 0.1549 -0.0658  0.9801  False\n",
      "  privatePikes Peak         publicMetro   0.3442 0.0525 -0.0017    0.69  False\n",
      "  privatePikes Peak publicNorth Central    0.254 0.5892 -0.1382  0.6462  False\n",
      "  privatePikes Peak     publicNortheast   0.1484    0.9 -0.4062   0.703  False\n",
      "  privatePikes Peak     publicNorthwest   0.3421 0.3564 -0.1108  0.7949  False\n",
      "  privatePikes Peak        publicOnline   0.1225    0.9 -0.4321  0.6772  False\n",
      "  privatePikes Peak    publicPikes Peak   0.1042    0.9 -0.2879  0.4964  False\n",
      "  privatePikes Peak     publicSoutheast  -0.0528    0.9 -0.5056  0.4001  False\n",
      "  privatePikes Peak     publicSouthwest  -0.1713    0.9 -0.5847   0.242  False\n",
      "  privatePikes Peak  publicWest Central   0.3227 0.3044 -0.0907  0.7361  False\n",
      "        publicMetro publicNorth Central  -0.0901    0.9 -0.3516  0.1713  False\n",
      "        publicMetro     publicNortheast  -0.1958    0.9 -0.6671  0.2756  False\n",
      "        publicMetro     publicNorthwest  -0.0021    0.9  -0.348  0.3438  False\n",
      "        publicMetro        publicOnline  -0.2216    0.9  -0.693  0.2497  False\n",
      "        publicMetro    publicPikes Peak  -0.2399  0.108 -0.5014  0.0215  False\n",
      "        publicMetro     publicSoutheast  -0.3969 0.0099 -0.7428 -0.0511   True\n",
      "        publicMetro     publicSouthwest  -0.5155  0.001 -0.8078 -0.2232   True\n",
      "        publicMetro  publicWest Central  -0.0215    0.9 -0.3138  0.2708  False\n",
      "publicNorth Central     publicNortheast  -0.1056    0.9 -0.6119  0.4007  False\n",
      "publicNorth Central     publicNorthwest    0.088    0.9 -0.3041  0.4802  False\n",
      "publicNorth Central        publicOnline  -0.1315    0.9 -0.6378  0.3748  False\n",
      "publicNorth Central    publicPikes Peak  -0.1498    0.9   -0.47  0.1704  False\n",
      "publicNorth Central     publicSoutheast  -0.3068 0.3011  -0.699  0.0854  False\n",
      "publicNorth Central     publicSouthwest  -0.4254 0.0036 -0.7712 -0.0795   True\n",
      "publicNorth Central  publicWest Central   0.0686    0.9 -0.2772  0.4145  False\n",
      "    publicNortheast     publicNorthwest   0.1936    0.9  -0.361  0.7483  False\n",
      "    publicNortheast        publicOnline  -0.0259    0.9 -0.6663  0.6146  False\n",
      "    publicNortheast    publicPikes Peak  -0.0442    0.9 -0.5505  0.4621  False\n",
      "    publicNortheast     publicSoutheast  -0.2012    0.9 -0.7558  0.3534  False\n",
      "    publicNortheast     publicSouthwest  -0.3198 0.6634 -0.8427  0.2031  False\n",
      "    publicNortheast  publicWest Central   0.1743    0.9 -0.3487  0.6972  False\n",
      "    publicNorthwest        publicOnline  -0.2195    0.9 -0.7741  0.3351  False\n",
      "    publicNorthwest    publicPikes Peak  -0.2378 0.6739   -0.63  0.1544  False\n",
      "    publicNorthwest     publicSoutheast  -0.3948 0.1579 -0.8477   0.058  False\n",
      "    publicNorthwest     publicSouthwest  -0.5134  0.003 -0.9268    -0.1   True\n",
      "    publicNorthwest  publicWest Central  -0.0194    0.9 -0.4328   0.394  False\n",
      "       publicOnline    publicPikes Peak  -0.0183    0.9 -0.5246   0.488  False\n",
      "       publicOnline     publicSoutheast  -0.1753    0.9 -0.7299  0.3793  False\n",
      "       publicOnline     publicSouthwest  -0.2939 0.7648 -0.8168   0.229  False\n",
      "       publicOnline  publicWest Central   0.2001    0.9 -0.3228   0.723  False\n",
      "   publicPikes Peak     publicSoutheast   -0.157    0.9 -0.5492  0.2352  False\n",
      "   publicPikes Peak     publicSouthwest  -0.2756 0.2737 -0.6215  0.0703  False\n",
      "   publicPikes Peak  publicWest Central   0.2184 0.6224 -0.1275  0.5643  False\n",
      "    publicSoutheast     publicSouthwest  -0.1186    0.9  -0.532  0.2948  False\n",
      "    publicSoutheast  publicWest Central   0.3754 0.1174  -0.038  0.7888  False\n",
      "    publicSouthwest  publicWest Central    0.494  0.001  0.1243  0.8638   True\n",
      "------------------------------------------------------------------------------\n"
     ]
    }
   ],
   "source": [
    "print(pairwise_tukeyhsd(endog=df['FR_fitted'], groups=df['FundRegion'], alpha=0.05))"
   ]
  },
  {
   "cell_type": "code",
   "execution_count": 69,
   "metadata": {
    "scrolled": true
   },
   "outputs": [
    {
     "name": "stdout",
     "output_type": "stream",
     "text": [
      "               Variable      N      Mean        SD        SE  95% Conf.  \\\n",
      "0  Private universities  130.0  1.615722  0.523212  0.045889   1.524930   \n",
      "1    Private all others  140.0  1.403696  0.507745  0.042912   1.318851   \n",
      "2              combined  270.0  1.505783  0.525127  0.031958   1.442863   \n",
      "\n",
      "   Interval  \n",
      "0  1.706515  \n",
      "1  1.488541  \n",
      "2  1.568703  \n",
      "                                  Independent t-test   results\n",
      "0  Difference (Private universities - Private all...    0.2120\n",
      "1                              Degrees of freedom =   268.0000\n",
      "2                                               t =     3.3785\n",
      "3                           Two side test p value =     0.0008\n",
      "4                          Difference < 0 p value =     0.9996\n",
      "5                          Difference > 0 p value =     0.0004\n",
      "6                                       Cohen's d =     0.4115\n",
      "7                                       Hedge's g =     0.4104\n",
      "8                                  Glass's delta1 =     0.4052\n",
      "9                                Point-Biserial r =     0.2021\n"
     ]
    },
    {
     "name": "stderr",
     "output_type": "stream",
     "text": [
      "C:\\Users\\ekelseya\\anaconda3\\lib\\site-packages\\researchpy\\ttest.py:38: FutureWarning: The series.append method is deprecated and will be removed from pandas in a future version. Use pandas.concat instead.\n",
      "  groups = group1.append(group2, ignore_index= True)\n"
     ]
    }
   ],
   "source": [
    "summary, results = rp.ttest(group1=df['FR_fitted'][(df['Funding'] == 'private') & (df['Type'] == 'University')], group1_name=\"Private universities\",\n",
    "                            group2=df['FR_fitted'][(df['Funding'] == 'public') & (df['Type'] == 'University')], group2_name=\"Private all others\")\n",
    "print(summary)\n",
    "print(results)"
   ]
  },
  {
   "cell_type": "code",
   "execution_count": 70,
   "metadata": {
    "scrolled": true
   },
   "outputs": [
    {
     "data": {
      "text/plain": [
       "Ttest_indResult(statistic=3.378532509460123, pvalue=0.0008370034613914972)"
      ]
     },
     "execution_count": 70,
     "metadata": {},
     "output_type": "execute_result"
    }
   ],
   "source": [
    "stats.ttest_ind(df['FR_fitted'][(df['Funding'] == 'private') & (df['Type'] == 'University')],\n",
    "                df['FR_fitted'][(df['Funding'] == 'public') & (df['Type'] == 'University')])"
   ]
  }
 ],
 "metadata": {
  "kernelspec": {
   "display_name": "Python 3",
   "language": "python",
   "name": "python3"
  },
  "language_info": {
   "codemirror_mode": {
    "name": "ipython",
    "version": 3
   },
   "file_extension": ".py",
   "mimetype": "text/x-python",
   "name": "python",
   "nbconvert_exporter": "python",
   "pygments_lexer": "ipython3",
   "version": "3.8.5"
  }
 },
 "nbformat": 4,
 "nbformat_minor": 4
}
