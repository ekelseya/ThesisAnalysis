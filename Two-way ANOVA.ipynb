{
 "cells": [
  {
   "cell_type": "code",
   "execution_count": 1,
   "metadata": {},
   "outputs": [
    {
     "name": "stderr",
     "output_type": "stream",
     "text": [
      "C:\\Users\\ekelseya\\anaconda3\\lib\\site-packages\\statsmodels\\tsa\\base\\tsa_model.py:7: FutureWarning: pandas.Int64Index is deprecated and will be removed from pandas in a future version. Use pandas.Index with the appropriate dtype instead.\n",
      "  from pandas import (to_datetime, Int64Index, DatetimeIndex, Period,\n",
      "C:\\Users\\ekelseya\\anaconda3\\lib\\site-packages\\statsmodels\\tsa\\base\\tsa_model.py:7: FutureWarning: pandas.Float64Index is deprecated and will be removed from pandas in a future version. Use pandas.Index with the appropriate dtype instead.\n",
      "  from pandas import (to_datetime, Int64Index, DatetimeIndex, Period,\n"
     ]
    },
    {
     "data": {
      "text/html": [
       "<div>\n",
       "<style scoped>\n",
       "    .dataframe tbody tr th:only-of-type {\n",
       "        vertical-align: middle;\n",
       "    }\n",
       "\n",
       "    .dataframe tbody tr th {\n",
       "        vertical-align: top;\n",
       "    }\n",
       "\n",
       "    .dataframe thead th {\n",
       "        text-align: right;\n",
       "    }\n",
       "</style>\n",
       "<table border=\"1\" class=\"dataframe\">\n",
       "  <thead>\n",
       "    <tr style=\"text-align: right;\">\n",
       "      <th></th>\n",
       "      <th>Unnamed: 0</th>\n",
       "      <th>Webpage</th>\n",
       "      <th>Page_Type</th>\n",
       "      <th>Institution</th>\n",
       "      <th>Funding</th>\n",
       "      <th>Tax_type</th>\n",
       "      <th>Region</th>\n",
       "      <th>Type</th>\n",
       "      <th>CU</th>\n",
       "      <th>CSU</th>\n",
       "      <th>CS_Department</th>\n",
       "      <th>CCCS</th>\n",
       "      <th>Elements</th>\n",
       "      <th>Errors</th>\n",
       "      <th>FR</th>\n",
       "      <th>FR_fitted</th>\n",
       "    </tr>\n",
       "  </thead>\n",
       "  <tbody>\n",
       "    <tr>\n",
       "      <th>0</th>\n",
       "      <td>0</td>\n",
       "      <td>https://www.adams.edu/</td>\n",
       "      <td>A</td>\n",
       "      <td>Adams State University</td>\n",
       "      <td>public</td>\n",
       "      <td>non-profit</td>\n",
       "      <td>Southwest</td>\n",
       "      <td>University</td>\n",
       "      <td>no</td>\n",
       "      <td>no</td>\n",
       "      <td>yes</td>\n",
       "      <td>no</td>\n",
       "      <td>698</td>\n",
       "      <td>1</td>\n",
       "      <td>0.001433</td>\n",
       "      <td>0.900164</td>\n",
       "    </tr>\n",
       "    <tr>\n",
       "      <th>1</th>\n",
       "      <td>1</td>\n",
       "      <td>https://www.adams.edu/academics/</td>\n",
       "      <td>C</td>\n",
       "      <td>Adams State University</td>\n",
       "      <td>public</td>\n",
       "      <td>non-profit</td>\n",
       "      <td>Southwest</td>\n",
       "      <td>University</td>\n",
       "      <td>no</td>\n",
       "      <td>no</td>\n",
       "      <td>yes</td>\n",
       "      <td>no</td>\n",
       "      <td>729</td>\n",
       "      <td>1</td>\n",
       "      <td>0.001372</td>\n",
       "      <td>0.891194</td>\n",
       "    </tr>\n",
       "    <tr>\n",
       "      <th>2</th>\n",
       "      <td>2</td>\n",
       "      <td>https://www.adams.edu/academics/graduate/couns...</td>\n",
       "      <td>D</td>\n",
       "      <td>Adams State University</td>\n",
       "      <td>public</td>\n",
       "      <td>non-profit</td>\n",
       "      <td>Southwest</td>\n",
       "      <td>University</td>\n",
       "      <td>no</td>\n",
       "      <td>no</td>\n",
       "      <td>yes</td>\n",
       "      <td>no</td>\n",
       "      <td>507</td>\n",
       "      <td>1</td>\n",
       "      <td>0.001972</td>\n",
       "      <td>0.969114</td>\n",
       "    </tr>\n",
       "    <tr>\n",
       "      <th>3</th>\n",
       "      <td>3</td>\n",
       "      <td>https://www.adams.edu/catalog/</td>\n",
       "      <td>C</td>\n",
       "      <td>Adams State University</td>\n",
       "      <td>public</td>\n",
       "      <td>non-profit</td>\n",
       "      <td>Southwest</td>\n",
       "      <td>University</td>\n",
       "      <td>no</td>\n",
       "      <td>no</td>\n",
       "      <td>yes</td>\n",
       "      <td>no</td>\n",
       "      <td>512</td>\n",
       "      <td>1</td>\n",
       "      <td>0.001953</td>\n",
       "      <td>0.966918</td>\n",
       "    </tr>\n",
       "    <tr>\n",
       "      <th>4</th>\n",
       "      <td>4</td>\n",
       "      <td>https://www.adams.edu/faculty-staff/</td>\n",
       "      <td>C</td>\n",
       "      <td>Adams State University</td>\n",
       "      <td>public</td>\n",
       "      <td>non-profit</td>\n",
       "      <td>Southwest</td>\n",
       "      <td>University</td>\n",
       "      <td>no</td>\n",
       "      <td>no</td>\n",
       "      <td>yes</td>\n",
       "      <td>no</td>\n",
       "      <td>645</td>\n",
       "      <td>1</td>\n",
       "      <td>0.001550</td>\n",
       "      <td>0.916706</td>\n",
       "    </tr>\n",
       "  </tbody>\n",
       "</table>\n",
       "</div>"
      ],
      "text/plain": [
       "   Unnamed: 0                                            Webpage Page_Type  \\\n",
       "0           0                             https://www.adams.edu/         A   \n",
       "1           1                   https://www.adams.edu/academics/         C   \n",
       "2           2  https://www.adams.edu/academics/graduate/couns...         D   \n",
       "3           3                     https://www.adams.edu/catalog/         C   \n",
       "4           4               https://www.adams.edu/faculty-staff/         C   \n",
       "\n",
       "              Institution Funding    Tax_type     Region        Type  CU CSU  \\\n",
       "0  Adams State University  public  non-profit  Southwest  University  no  no   \n",
       "1  Adams State University  public  non-profit  Southwest  University  no  no   \n",
       "2  Adams State University  public  non-profit  Southwest  University  no  no   \n",
       "3  Adams State University  public  non-profit  Southwest  University  no  no   \n",
       "4  Adams State University  public  non-profit  Southwest  University  no  no   \n",
       "\n",
       "  CS_Department CCCS  Elements  Errors        FR  FR_fitted  \n",
       "0           yes   no       698       1  0.001433   0.900164  \n",
       "1           yes   no       729       1  0.001372   0.891194  \n",
       "2           yes   no       507       1  0.001972   0.969114  \n",
       "3           yes   no       512       1  0.001953   0.966918  \n",
       "4           yes   no       645       1  0.001550   0.916706  "
      ]
     },
     "execution_count": 1,
     "metadata": {},
     "output_type": "execute_result"
    }
   ],
   "source": [
    "import numpy as np\n",
    "import pandas as pd\n",
    "import statsmodels.api as sm\n",
    "from statsmodels.formula.api import ols\n",
    "import researchpy as rp\n",
    "from scipy import stats\n",
    "\n",
    "# Read in csv\n",
    "df = pd.read_csv('fittedFailureRate.csv', encoding='unicode_escape')\n",
    "df.head()"
   ]
  },
  {
   "cell_type": "code",
   "execution_count": 6,
   "metadata": {
    "scrolled": true
   },
   "outputs": [
    {
     "data": {
      "text/html": [
       "<div>\n",
       "<style scoped>\n",
       "    .dataframe tbody tr th:only-of-type {\n",
       "        vertical-align: middle;\n",
       "    }\n",
       "\n",
       "    .dataframe tbody tr th {\n",
       "        vertical-align: top;\n",
       "    }\n",
       "\n",
       "    .dataframe thead th {\n",
       "        text-align: right;\n",
       "    }\n",
       "</style>\n",
       "<table border=\"1\" class=\"dataframe\">\n",
       "  <thead>\n",
       "    <tr style=\"text-align: right;\">\n",
       "      <th></th>\n",
       "      <th>df</th>\n",
       "      <th>sum_sq</th>\n",
       "      <th>mean_sq</th>\n",
       "      <th>F</th>\n",
       "      <th>PR(&gt;F)</th>\n",
       "    </tr>\n",
       "  </thead>\n",
       "  <tbody>\n",
       "    <tr>\n",
       "      <th>C(Funding):C(Tax_type)</th>\n",
       "      <td>3.0</td>\n",
       "      <td>6.219634</td>\n",
       "      <td>2.073211</td>\n",
       "      <td>9.509292</td>\n",
       "      <td>0.000004</td>\n",
       "    </tr>\n",
       "    <tr>\n",
       "      <th>Residual</th>\n",
       "      <td>537.0</td>\n",
       "      <td>117.076491</td>\n",
       "      <td>0.218020</td>\n",
       "      <td>NaN</td>\n",
       "      <td>NaN</td>\n",
       "    </tr>\n",
       "  </tbody>\n",
       "</table>\n",
       "</div>"
      ],
      "text/plain": [
       "                           df      sum_sq   mean_sq         F    PR(>F)\n",
       "C(Funding):C(Tax_type)    3.0    6.219634  2.073211  9.509292  0.000004\n",
       "Residual                537.0  117.076491  0.218020       NaN       NaN"
      ]
     },
     "execution_count": 6,
     "metadata": {},
     "output_type": "execute_result"
    }
   ],
   "source": [
    "model = ols(\"\"\"FR_fitted ~ C(Funding):C(Tax_type)\"\"\", data=df).fit()\n",
    "sm.stats.anova_lm(model, typ=1)"
   ]
  },
  {
   "cell_type": "code",
   "execution_count": 9,
   "metadata": {
    "scrolled": false
   },
   "outputs": [
    {
     "data": {
      "text/html": [
       "<div>\n",
       "<style scoped>\n",
       "    .dataframe tbody tr th:only-of-type {\n",
       "        vertical-align: middle;\n",
       "    }\n",
       "\n",
       "    .dataframe tbody tr th {\n",
       "        vertical-align: top;\n",
       "    }\n",
       "\n",
       "    .dataframe thead th {\n",
       "        text-align: right;\n",
       "    }\n",
       "</style>\n",
       "<table border=\"1\" class=\"dataframe\">\n",
       "  <thead>\n",
       "    <tr style=\"text-align: right;\">\n",
       "      <th></th>\n",
       "      <th>df</th>\n",
       "      <th>sum_sq</th>\n",
       "      <th>mean_sq</th>\n",
       "      <th>F</th>\n",
       "      <th>PR(&gt;F)</th>\n",
       "    </tr>\n",
       "  </thead>\n",
       "  <tbody>\n",
       "    <tr>\n",
       "      <th>C(Funding):C(Type)</th>\n",
       "      <td>7.0</td>\n",
       "      <td>14.213008</td>\n",
       "      <td>2.030430</td>\n",
       "      <td>9.909558</td>\n",
       "      <td>1.186308e-11</td>\n",
       "    </tr>\n",
       "    <tr>\n",
       "      <th>Residual</th>\n",
       "      <td>533.0</td>\n",
       "      <td>109.209619</td>\n",
       "      <td>0.204896</td>\n",
       "      <td>NaN</td>\n",
       "      <td>NaN</td>\n",
       "    </tr>\n",
       "  </tbody>\n",
       "</table>\n",
       "</div>"
      ],
      "text/plain": [
       "                       df      sum_sq   mean_sq         F        PR(>F)\n",
       "C(Funding):C(Type)    7.0   14.213008  2.030430  9.909558  1.186308e-11\n",
       "Residual            533.0  109.209619  0.204896       NaN           NaN"
      ]
     },
     "execution_count": 9,
     "metadata": {},
     "output_type": "execute_result"
    }
   ],
   "source": [
    "model = ols(\"\"\"FR_fitted ~ C(Funding):C(Type)\"\"\", data=df).fit()\n",
    "sm.stats.anova_lm(model, typ=1)"
   ]
  },
  {
   "cell_type": "code",
   "execution_count": 12,
   "metadata": {
    "scrolled": true
   },
   "outputs": [
    {
     "data": {
      "text/html": [
       "<div>\n",
       "<style scoped>\n",
       "    .dataframe tbody tr th:only-of-type {\n",
       "        vertical-align: middle;\n",
       "    }\n",
       "\n",
       "    .dataframe tbody tr th {\n",
       "        vertical-align: top;\n",
       "    }\n",
       "\n",
       "    .dataframe thead th {\n",
       "        text-align: right;\n",
       "    }\n",
       "</style>\n",
       "<table border=\"1\" class=\"dataframe\">\n",
       "  <thead>\n",
       "    <tr style=\"text-align: right;\">\n",
       "      <th></th>\n",
       "      <th>df</th>\n",
       "      <th>sum_sq</th>\n",
       "      <th>mean_sq</th>\n",
       "      <th>F</th>\n",
       "      <th>PR(&gt;F)</th>\n",
       "    </tr>\n",
       "  </thead>\n",
       "  <tbody>\n",
       "    <tr>\n",
       "      <th>C(Tax_type):C(Type)</th>\n",
       "      <td>7.0</td>\n",
       "      <td>11.384261</td>\n",
       "      <td>1.626323</td>\n",
       "      <td>7.755095</td>\n",
       "      <td>6.011138e-09</td>\n",
       "    </tr>\n",
       "    <tr>\n",
       "      <th>Residual</th>\n",
       "      <td>533.0</td>\n",
       "      <td>111.775577</td>\n",
       "      <td>0.209710</td>\n",
       "      <td>NaN</td>\n",
       "      <td>NaN</td>\n",
       "    </tr>\n",
       "  </tbody>\n",
       "</table>\n",
       "</div>"
      ],
      "text/plain": [
       "                        df      sum_sq   mean_sq         F        PR(>F)\n",
       "C(Tax_type):C(Type)    7.0   11.384261  1.626323  7.755095  6.011138e-09\n",
       "Residual             533.0  111.775577  0.209710       NaN           NaN"
      ]
     },
     "execution_count": 12,
     "metadata": {},
     "output_type": "execute_result"
    }
   ],
   "source": [
    "model = ols(\"\"\"FR_fitted ~ C(Tax_type):C(Type)\"\"\", data=df).fit()\n",
    "sm.stats.anova_lm(model, typ=1)"
   ]
  },
  {
   "cell_type": "code",
   "execution_count": 11,
   "metadata": {
    "scrolled": true
   },
   "outputs": [
    {
     "data": {
      "text/html": [
       "<div>\n",
       "<style scoped>\n",
       "    .dataframe tbody tr th:only-of-type {\n",
       "        vertical-align: middle;\n",
       "    }\n",
       "\n",
       "    .dataframe tbody tr th {\n",
       "        vertical-align: top;\n",
       "    }\n",
       "\n",
       "    .dataframe thead th {\n",
       "        text-align: right;\n",
       "    }\n",
       "</style>\n",
       "<table border=\"1\" class=\"dataframe\">\n",
       "  <thead>\n",
       "    <tr style=\"text-align: right;\">\n",
       "      <th></th>\n",
       "      <th>df</th>\n",
       "      <th>sum_sq</th>\n",
       "      <th>mean_sq</th>\n",
       "      <th>F</th>\n",
       "      <th>PR(&gt;F)</th>\n",
       "    </tr>\n",
       "  </thead>\n",
       "  <tbody>\n",
       "    <tr>\n",
       "      <th>C(Tax_type):C(Region)</th>\n",
       "      <td>17.0</td>\n",
       "      <td>23.753085</td>\n",
       "      <td>1.39724</td>\n",
       "      <td>7.338833</td>\n",
       "      <td>2.578789e-16</td>\n",
       "    </tr>\n",
       "    <tr>\n",
       "      <th>Residual</th>\n",
       "      <td>528.0</td>\n",
       "      <td>100.525911</td>\n",
       "      <td>0.19039</td>\n",
       "      <td>NaN</td>\n",
       "      <td>NaN</td>\n",
       "    </tr>\n",
       "  </tbody>\n",
       "</table>\n",
       "</div>"
      ],
      "text/plain": [
       "                          df      sum_sq  mean_sq         F        PR(>F)\n",
       "C(Tax_type):C(Region)   17.0   23.753085  1.39724  7.338833  2.578789e-16\n",
       "Residual               528.0  100.525911  0.19039       NaN           NaN"
      ]
     },
     "execution_count": 11,
     "metadata": {},
     "output_type": "execute_result"
    }
   ],
   "source": [
    "model = ols(\"\"\"FR_fitted ~ C(Tax_type):C(Region)\"\"\", data=df).fit()\n",
    "sm.stats.anova_lm(model, typ=1)"
   ]
  },
  {
   "cell_type": "code",
   "execution_count": 14,
   "metadata": {},
   "outputs": [
    {
     "data": {
      "text/html": [
       "<div>\n",
       "<style scoped>\n",
       "    .dataframe tbody tr th:only-of-type {\n",
       "        vertical-align: middle;\n",
       "    }\n",
       "\n",
       "    .dataframe tbody tr th {\n",
       "        vertical-align: top;\n",
       "    }\n",
       "\n",
       "    .dataframe thead th {\n",
       "        text-align: right;\n",
       "    }\n",
       "</style>\n",
       "<table border=\"1\" class=\"dataframe\">\n",
       "  <thead>\n",
       "    <tr style=\"text-align: right;\">\n",
       "      <th></th>\n",
       "      <th>df</th>\n",
       "      <th>sum_sq</th>\n",
       "      <th>mean_sq</th>\n",
       "      <th>F</th>\n",
       "      <th>PR(&gt;F)</th>\n",
       "    </tr>\n",
       "  </thead>\n",
       "  <tbody>\n",
       "    <tr>\n",
       "      <th>C(Region):C(Type)</th>\n",
       "      <td>35.0</td>\n",
       "      <td>32.299179</td>\n",
       "      <td>0.922834</td>\n",
       "      <td>5.242945</td>\n",
       "      <td>2.918923e-18</td>\n",
       "    </tr>\n",
       "    <tr>\n",
       "      <th>Residual</th>\n",
       "      <td>522.0</td>\n",
       "      <td>91.879507</td>\n",
       "      <td>0.176014</td>\n",
       "      <td>NaN</td>\n",
       "      <td>NaN</td>\n",
       "    </tr>\n",
       "  </tbody>\n",
       "</table>\n",
       "</div>"
      ],
      "text/plain": [
       "                      df     sum_sq   mean_sq         F        PR(>F)\n",
       "C(Region):C(Type)   35.0  32.299179  0.922834  5.242945  2.918923e-18\n",
       "Residual           522.0  91.879507  0.176014       NaN           NaN"
      ]
     },
     "execution_count": 14,
     "metadata": {},
     "output_type": "execute_result"
    }
   ],
   "source": [
    "model = ols(\"\"\"FR_fitted ~ C(Region):C(Type)\"\"\", data=df).fit()\n",
    "sm.stats.anova_lm(model, typ=1)"
   ]
  },
  {
   "cell_type": "code",
   "execution_count": 7,
   "metadata": {
    "scrolled": true
   },
   "outputs": [
    {
     "data": {
      "text/html": [
       "<div>\n",
       "<style scoped>\n",
       "    .dataframe tbody tr th:only-of-type {\n",
       "        vertical-align: middle;\n",
       "    }\n",
       "\n",
       "    .dataframe tbody tr th {\n",
       "        vertical-align: top;\n",
       "    }\n",
       "\n",
       "    .dataframe thead th {\n",
       "        text-align: right;\n",
       "    }\n",
       "</style>\n",
       "<table border=\"1\" class=\"dataframe\">\n",
       "  <thead>\n",
       "    <tr style=\"text-align: right;\">\n",
       "      <th></th>\n",
       "      <th>df</th>\n",
       "      <th>sum_sq</th>\n",
       "      <th>mean_sq</th>\n",
       "      <th>F</th>\n",
       "      <th>PR(&gt;F)</th>\n",
       "    </tr>\n",
       "  </thead>\n",
       "  <tbody>\n",
       "    <tr>\n",
       "      <th>C(Funding):C(Region)</th>\n",
       "      <td>17.0</td>\n",
       "      <td>22.948981</td>\n",
       "      <td>1.349940</td>\n",
       "      <td>7.094449</td>\n",
       "      <td>1.137389e-15</td>\n",
       "    </tr>\n",
       "    <tr>\n",
       "      <th>Residual</th>\n",
       "      <td>528.0</td>\n",
       "      <td>100.468453</td>\n",
       "      <td>0.190281</td>\n",
       "      <td>NaN</td>\n",
       "      <td>NaN</td>\n",
       "    </tr>\n",
       "  </tbody>\n",
       "</table>\n",
       "</div>"
      ],
      "text/plain": [
       "                         df      sum_sq   mean_sq         F        PR(>F)\n",
       "C(Funding):C(Region)   17.0   22.948981  1.349940  7.094449  1.137389e-15\n",
       "Residual              528.0  100.468453  0.190281       NaN           NaN"
      ]
     },
     "execution_count": 7,
     "metadata": {},
     "output_type": "execute_result"
    }
   ],
   "source": [
    "model = ols(\"\"\"FR_fitted ~ C(Funding):C(Region)\"\"\", data=df).fit()\n",
    "sm.stats.anova_lm(model, typ=1)"
   ]
  },
  {
   "cell_type": "code",
   "execution_count": 10,
   "metadata": {
    "scrolled": true
   },
   "outputs": [
    {
     "data": {
      "text/html": [
       "<div>\n",
       "<style scoped>\n",
       "    .dataframe tbody tr th:only-of-type {\n",
       "        vertical-align: middle;\n",
       "    }\n",
       "\n",
       "    .dataframe tbody tr th {\n",
       "        vertical-align: top;\n",
       "    }\n",
       "\n",
       "    .dataframe thead th {\n",
       "        text-align: right;\n",
       "    }\n",
       "</style>\n",
       "<table border=\"1\" class=\"dataframe\">\n",
       "  <thead>\n",
       "    <tr style=\"text-align: right;\">\n",
       "      <th></th>\n",
       "      <th>df</th>\n",
       "      <th>sum_sq</th>\n",
       "      <th>mean_sq</th>\n",
       "      <th>F</th>\n",
       "      <th>PR(&gt;F)</th>\n",
       "    </tr>\n",
       "  </thead>\n",
       "  <tbody>\n",
       "    <tr>\n",
       "      <th>C(Funding):C(Page_Type)</th>\n",
       "      <td>7.0</td>\n",
       "      <td>8.022213</td>\n",
       "      <td>1.146030</td>\n",
       "      <td>5.29865</td>\n",
       "      <td>0.000007</td>\n",
       "    </tr>\n",
       "    <tr>\n",
       "      <th>Residual</th>\n",
       "      <td>532.0</td>\n",
       "      <td>115.064821</td>\n",
       "      <td>0.216287</td>\n",
       "      <td>NaN</td>\n",
       "      <td>NaN</td>\n",
       "    </tr>\n",
       "  </tbody>\n",
       "</table>\n",
       "</div>"
      ],
      "text/plain": [
       "                            df      sum_sq   mean_sq        F    PR(>F)\n",
       "C(Funding):C(Page_Type)    7.0    8.022213  1.146030  5.29865  0.000007\n",
       "Residual                 532.0  115.064821  0.216287      NaN       NaN"
      ]
     },
     "execution_count": 10,
     "metadata": {},
     "output_type": "execute_result"
    }
   ],
   "source": [
    "model = ols(\"\"\"FR_fitted ~ C(Funding):C(Page_Type)\"\"\", data=df).fit()\n",
    "sm.stats.anova_lm(model, typ=1)"
   ]
  },
  {
   "cell_type": "code",
   "execution_count": 16,
   "metadata": {},
   "outputs": [
    {
     "data": {
      "text/html": [
       "<div>\n",
       "<style scoped>\n",
       "    .dataframe tbody tr th:only-of-type {\n",
       "        vertical-align: middle;\n",
       "    }\n",
       "\n",
       "    .dataframe tbody tr th {\n",
       "        vertical-align: top;\n",
       "    }\n",
       "\n",
       "    .dataframe thead th {\n",
       "        text-align: right;\n",
       "    }\n",
       "</style>\n",
       "<table border=\"1\" class=\"dataframe\">\n",
       "  <thead>\n",
       "    <tr style=\"text-align: right;\">\n",
       "      <th></th>\n",
       "      <th>df</th>\n",
       "      <th>sum_sq</th>\n",
       "      <th>mean_sq</th>\n",
       "      <th>F</th>\n",
       "      <th>PR(&gt;F)</th>\n",
       "    </tr>\n",
       "  </thead>\n",
       "  <tbody>\n",
       "    <tr>\n",
       "      <th>C(Type):C(Page_Type)</th>\n",
       "      <td>15.0</td>\n",
       "      <td>15.449972</td>\n",
       "      <td>1.029998</td>\n",
       "      <td>5.023638</td>\n",
       "      <td>2.646574e-09</td>\n",
       "    </tr>\n",
       "    <tr>\n",
       "      <th>Residual</th>\n",
       "      <td>525.0</td>\n",
       "      <td>107.640919</td>\n",
       "      <td>0.205030</td>\n",
       "      <td>NaN</td>\n",
       "      <td>NaN</td>\n",
       "    </tr>\n",
       "  </tbody>\n",
       "</table>\n",
       "</div>"
      ],
      "text/plain": [
       "                         df      sum_sq   mean_sq         F        PR(>F)\n",
       "C(Type):C(Page_Type)   15.0   15.449972  1.029998  5.023638  2.646574e-09\n",
       "Residual              525.0  107.640919  0.205030       NaN           NaN"
      ]
     },
     "execution_count": 16,
     "metadata": {},
     "output_type": "execute_result"
    }
   ],
   "source": [
    "model = ols(\"\"\"FR_fitted ~ C(Type):C(Page_Type)\"\"\", data=df).fit()\n",
    "sm.stats.anova_lm(model, typ=1)"
   ]
  },
  {
   "cell_type": "code",
   "execution_count": 15,
   "metadata": {
    "scrolled": true
   },
   "outputs": [
    {
     "data": {
      "text/html": [
       "<div>\n",
       "<style scoped>\n",
       "    .dataframe tbody tr th:only-of-type {\n",
       "        vertical-align: middle;\n",
       "    }\n",
       "\n",
       "    .dataframe tbody tr th {\n",
       "        vertical-align: top;\n",
       "    }\n",
       "\n",
       "    .dataframe thead th {\n",
       "        text-align: right;\n",
       "    }\n",
       "</style>\n",
       "<table border=\"1\" class=\"dataframe\">\n",
       "  <thead>\n",
       "    <tr style=\"text-align: right;\">\n",
       "      <th></th>\n",
       "      <th>df</th>\n",
       "      <th>sum_sq</th>\n",
       "      <th>mean_sq</th>\n",
       "      <th>F</th>\n",
       "      <th>PR(&gt;F)</th>\n",
       "    </tr>\n",
       "  </thead>\n",
       "  <tbody>\n",
       "    <tr>\n",
       "      <th>C(Region):C(Page_Type)</th>\n",
       "      <td>35.0</td>\n",
       "      <td>26.075195</td>\n",
       "      <td>0.745006</td>\n",
       "      <td>3.890145</td>\n",
       "      <td>5.956392e-12</td>\n",
       "    </tr>\n",
       "    <tr>\n",
       "      <th>Residual</th>\n",
       "      <td>508.0</td>\n",
       "      <td>97.287583</td>\n",
       "      <td>0.191511</td>\n",
       "      <td>NaN</td>\n",
       "      <td>NaN</td>\n",
       "    </tr>\n",
       "  </tbody>\n",
       "</table>\n",
       "</div>"
      ],
      "text/plain": [
       "                           df     sum_sq   mean_sq         F        PR(>F)\n",
       "C(Region):C(Page_Type)   35.0  26.075195  0.745006  3.890145  5.956392e-12\n",
       "Residual                508.0  97.287583  0.191511       NaN           NaN"
      ]
     },
     "execution_count": 15,
     "metadata": {},
     "output_type": "execute_result"
    }
   ],
   "source": [
    "model = ols(\"\"\"FR_fitted ~ C(Region):C(Page_Type)\"\"\", data=df).fit()\n",
    "sm.stats.anova_lm(model, typ=1)"
   ]
  },
  {
   "cell_type": "code",
   "execution_count": 13,
   "metadata": {
    "scrolled": true
   },
   "outputs": [
    {
     "data": {
      "text/html": [
       "<div>\n",
       "<style scoped>\n",
       "    .dataframe tbody tr th:only-of-type {\n",
       "        vertical-align: middle;\n",
       "    }\n",
       "\n",
       "    .dataframe tbody tr th {\n",
       "        vertical-align: top;\n",
       "    }\n",
       "\n",
       "    .dataframe thead th {\n",
       "        text-align: right;\n",
       "    }\n",
       "</style>\n",
       "<table border=\"1\" class=\"dataframe\">\n",
       "  <thead>\n",
       "    <tr style=\"text-align: right;\">\n",
       "      <th></th>\n",
       "      <th>df</th>\n",
       "      <th>sum_sq</th>\n",
       "      <th>mean_sq</th>\n",
       "      <th>F</th>\n",
       "      <th>PR(&gt;F)</th>\n",
       "    </tr>\n",
       "  </thead>\n",
       "  <tbody>\n",
       "    <tr>\n",
       "      <th>C(Tax_type):C(Page_Type)</th>\n",
       "      <td>7.0</td>\n",
       "      <td>8.538110</td>\n",
       "      <td>1.219730</td>\n",
       "      <td>5.664797</td>\n",
       "      <td>0.000003</td>\n",
       "    </tr>\n",
       "    <tr>\n",
       "      <th>Residual</th>\n",
       "      <td>532.0</td>\n",
       "      <td>114.548925</td>\n",
       "      <td>0.215318</td>\n",
       "      <td>NaN</td>\n",
       "      <td>NaN</td>\n",
       "    </tr>\n",
       "  </tbody>\n",
       "</table>\n",
       "</div>"
      ],
      "text/plain": [
       "                             df      sum_sq   mean_sq         F    PR(>F)\n",
       "C(Tax_type):C(Page_Type)    7.0    8.538110  1.219730  5.664797  0.000003\n",
       "Residual                  532.0  114.548925  0.215318       NaN       NaN"
      ]
     },
     "execution_count": 13,
     "metadata": {},
     "output_type": "execute_result"
    }
   ],
   "source": [
    "model = ols(\"\"\"FR_fitted ~ C(Tax_type):C(Page_Type)\"\"\", data=df).fit()\n",
    "sm.stats.anova_lm(model, typ=1)"
   ]
  }
 ],
 "metadata": {
  "kernelspec": {
   "display_name": "Python 3",
   "language": "python",
   "name": "python3"
  },
  "language_info": {
   "codemirror_mode": {
    "name": "ipython",
    "version": 3
   },
   "file_extension": ".py",
   "mimetype": "text/x-python",
   "name": "python",
   "nbconvert_exporter": "python",
   "pygments_lexer": "ipython3",
   "version": "3.8.5"
  }
 },
 "nbformat": 4,
 "nbformat_minor": 4
}
