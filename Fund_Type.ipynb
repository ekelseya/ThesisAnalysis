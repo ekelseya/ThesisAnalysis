{
 "cells": [
  {
   "cell_type": "code",
   "execution_count": 3,
   "metadata": {},
   "outputs": [
    {
     "name": "stderr",
     "output_type": "stream",
     "text": [
      "C:\\Users\\ekelseya\\anaconda3\\lib\\site-packages\\statsmodels\\tsa\\base\\tsa_model.py:7: FutureWarning: pandas.Int64Index is deprecated and will be removed from pandas in a future version. Use pandas.Index with the appropriate dtype instead.\n",
      "  from pandas import (to_datetime, Int64Index, DatetimeIndex, Period,\n",
      "C:\\Users\\ekelseya\\anaconda3\\lib\\site-packages\\statsmodels\\tsa\\base\\tsa_model.py:7: FutureWarning: pandas.Float64Index is deprecated and will be removed from pandas in a future version. Use pandas.Index with the appropriate dtype instead.\n",
      "  from pandas import (to_datetime, Int64Index, DatetimeIndex, Period,\n"
     ]
    },
    {
     "data": {
      "text/html": [
       "<div>\n",
       "<style scoped>\n",
       "    .dataframe tbody tr th:only-of-type {\n",
       "        vertical-align: middle;\n",
       "    }\n",
       "\n",
       "    .dataframe tbody tr th {\n",
       "        vertical-align: top;\n",
       "    }\n",
       "\n",
       "    .dataframe thead th {\n",
       "        text-align: right;\n",
       "    }\n",
       "</style>\n",
       "<table border=\"1\" class=\"dataframe\">\n",
       "  <thead>\n",
       "    <tr style=\"text-align: right;\">\n",
       "      <th></th>\n",
       "      <th>Unnamed: 0</th>\n",
       "      <th>Webpage</th>\n",
       "      <th>Page_Type</th>\n",
       "      <th>Institution</th>\n",
       "      <th>Funding</th>\n",
       "      <th>Tax_type</th>\n",
       "      <th>Region</th>\n",
       "      <th>Type</th>\n",
       "      <th>CU</th>\n",
       "      <th>CSU</th>\n",
       "      <th>CS_Department</th>\n",
       "      <th>CCCS</th>\n",
       "      <th>Elements</th>\n",
       "      <th>Errors</th>\n",
       "      <th>FR</th>\n",
       "      <th>FR_fitted</th>\n",
       "      <th>FundType</th>\n",
       "    </tr>\n",
       "  </thead>\n",
       "  <tbody>\n",
       "    <tr>\n",
       "      <th>0</th>\n",
       "      <td>0</td>\n",
       "      <td>https://www.adams.edu/</td>\n",
       "      <td>A</td>\n",
       "      <td>Adams State University</td>\n",
       "      <td>public</td>\n",
       "      <td>non-profit</td>\n",
       "      <td>Southwest</td>\n",
       "      <td>University</td>\n",
       "      <td>no</td>\n",
       "      <td>no</td>\n",
       "      <td>yes</td>\n",
       "      <td>no</td>\n",
       "      <td>698</td>\n",
       "      <td>1</td>\n",
       "      <td>0.001433</td>\n",
       "      <td>0.900164</td>\n",
       "      <td>publicUniversity</td>\n",
       "    </tr>\n",
       "    <tr>\n",
       "      <th>1</th>\n",
       "      <td>1</td>\n",
       "      <td>https://www.adams.edu/academics/</td>\n",
       "      <td>C</td>\n",
       "      <td>Adams State University</td>\n",
       "      <td>public</td>\n",
       "      <td>non-profit</td>\n",
       "      <td>Southwest</td>\n",
       "      <td>University</td>\n",
       "      <td>no</td>\n",
       "      <td>no</td>\n",
       "      <td>yes</td>\n",
       "      <td>no</td>\n",
       "      <td>729</td>\n",
       "      <td>1</td>\n",
       "      <td>0.001372</td>\n",
       "      <td>0.891194</td>\n",
       "      <td>publicUniversity</td>\n",
       "    </tr>\n",
       "    <tr>\n",
       "      <th>2</th>\n",
       "      <td>2</td>\n",
       "      <td>https://www.adams.edu/academics/graduate/couns...</td>\n",
       "      <td>D</td>\n",
       "      <td>Adams State University</td>\n",
       "      <td>public</td>\n",
       "      <td>non-profit</td>\n",
       "      <td>Southwest</td>\n",
       "      <td>University</td>\n",
       "      <td>no</td>\n",
       "      <td>no</td>\n",
       "      <td>yes</td>\n",
       "      <td>no</td>\n",
       "      <td>507</td>\n",
       "      <td>1</td>\n",
       "      <td>0.001972</td>\n",
       "      <td>0.969114</td>\n",
       "      <td>publicUniversity</td>\n",
       "    </tr>\n",
       "    <tr>\n",
       "      <th>3</th>\n",
       "      <td>3</td>\n",
       "      <td>https://www.adams.edu/catalog/</td>\n",
       "      <td>C</td>\n",
       "      <td>Adams State University</td>\n",
       "      <td>public</td>\n",
       "      <td>non-profit</td>\n",
       "      <td>Southwest</td>\n",
       "      <td>University</td>\n",
       "      <td>no</td>\n",
       "      <td>no</td>\n",
       "      <td>yes</td>\n",
       "      <td>no</td>\n",
       "      <td>512</td>\n",
       "      <td>1</td>\n",
       "      <td>0.001953</td>\n",
       "      <td>0.966918</td>\n",
       "      <td>publicUniversity</td>\n",
       "    </tr>\n",
       "    <tr>\n",
       "      <th>4</th>\n",
       "      <td>4</td>\n",
       "      <td>https://www.adams.edu/faculty-staff/</td>\n",
       "      <td>C</td>\n",
       "      <td>Adams State University</td>\n",
       "      <td>public</td>\n",
       "      <td>non-profit</td>\n",
       "      <td>Southwest</td>\n",
       "      <td>University</td>\n",
       "      <td>no</td>\n",
       "      <td>no</td>\n",
       "      <td>yes</td>\n",
       "      <td>no</td>\n",
       "      <td>645</td>\n",
       "      <td>1</td>\n",
       "      <td>0.001550</td>\n",
       "      <td>0.916706</td>\n",
       "      <td>publicUniversity</td>\n",
       "    </tr>\n",
       "  </tbody>\n",
       "</table>\n",
       "</div>"
      ],
      "text/plain": [
       "   Unnamed: 0                                            Webpage Page_Type  \\\n",
       "0           0                             https://www.adams.edu/         A   \n",
       "1           1                   https://www.adams.edu/academics/         C   \n",
       "2           2  https://www.adams.edu/academics/graduate/couns...         D   \n",
       "3           3                     https://www.adams.edu/catalog/         C   \n",
       "4           4               https://www.adams.edu/faculty-staff/         C   \n",
       "\n",
       "              Institution Funding    Tax_type     Region        Type  CU CSU  \\\n",
       "0  Adams State University  public  non-profit  Southwest  University  no  no   \n",
       "1  Adams State University  public  non-profit  Southwest  University  no  no   \n",
       "2  Adams State University  public  non-profit  Southwest  University  no  no   \n",
       "3  Adams State University  public  non-profit  Southwest  University  no  no   \n",
       "4  Adams State University  public  non-profit  Southwest  University  no  no   \n",
       "\n",
       "  CS_Department CCCS  Elements  Errors        FR  FR_fitted          FundType  \n",
       "0           yes   no       698       1  0.001433   0.900164  publicUniversity  \n",
       "1           yes   no       729       1  0.001372   0.891194  publicUniversity  \n",
       "2           yes   no       507       1  0.001972   0.969114  publicUniversity  \n",
       "3           yes   no       512       1  0.001953   0.966918  publicUniversity  \n",
       "4           yes   no       645       1  0.001550   0.916706  publicUniversity  "
      ]
     },
     "execution_count": 3,
     "metadata": {},
     "output_type": "execute_result"
    }
   ],
   "source": [
    "import numpy as np\n",
    "import pandas as pd\n",
    "import statsmodels.api as sm\n",
    "from statsmodels.formula.api import ols\n",
    "import researchpy as rp\n",
    "from scipy import stats\n",
    "from statsmodels.stats.multicomp import pairwise_tukeyhsd\n",
    "\n",
    "# Read in csv\n",
    "df = pd.read_csv('fittedFailureRate.csv', encoding='unicode_escape')\n",
    "df['FundType'] = df['Funding'] + df['Type']\n",
    "df.head()"
   ]
  },
  {
   "cell_type": "code",
   "execution_count": 4,
   "metadata": {},
   "outputs": [
    {
     "data": {
      "text/plain": [
       "Funding  Type             \n",
       "private  College              0.042552\n",
       "         University           0.028821\n",
       "         VoTech               0.034175\n",
       "public   College              0.013433\n",
       "         Community College    0.014357\n",
       "         University           0.018881\n",
       "         VoTech               0.049524\n",
       "Name: FR, dtype: float64"
      ]
     },
     "execution_count": 4,
     "metadata": {},
     "output_type": "execute_result"
    }
   ],
   "source": [
    "df.groupby(['Funding','Type'])['FR'].mean()"
   ]
  },
  {
   "cell_type": "code",
   "execution_count": 5,
   "metadata": {},
   "outputs": [
    {
     "data": {
      "text/plain": [
       "Funding  Type             \n",
       "private  College              0.044601\n",
       "         University           0.029254\n",
       "         VoTech               0.029855\n",
       "public   College              0.011237\n",
       "         Community College    0.015461\n",
       "         University           0.024467\n",
       "         VoTech               0.032664\n",
       "Name: FR, dtype: float64"
      ]
     },
     "execution_count": 5,
     "metadata": {},
     "output_type": "execute_result"
    }
   ],
   "source": [
    "df.groupby(['Funding','Type'])['FR'].std()"
   ]
  },
  {
   "cell_type": "code",
   "execution_count": 6,
   "metadata": {},
   "outputs": [
    {
     "data": {
      "text/plain": [
       "Funding  Type             \n",
       "private  College              0.001989\n",
       "         University           0.000856\n",
       "         VoTech               0.000891\n",
       "public   College              0.000126\n",
       "         Community College    0.000239\n",
       "         University           0.000599\n",
       "         VoTech               0.001067\n",
       "Name: FR, dtype: float64"
      ]
     },
     "execution_count": 6,
     "metadata": {},
     "output_type": "execute_result"
    }
   ],
   "source": [
    "df.groupby(['Funding','Type'])['FR'].var()"
   ]
  },
  {
   "cell_type": "code",
   "execution_count": 7,
   "metadata": {
    "scrolled": false
   },
   "outputs": [
    {
     "data": {
      "text/plain": [
       "Funding  Type             \n",
       "private  College               40\n",
       "         University           130\n",
       "         VoTech                50\n",
       "public   College               10\n",
       "         Community College    140\n",
       "         University           140\n",
       "         VoTech                30\n",
       "Name: FR, dtype: int64"
      ]
     },
     "execution_count": 7,
     "metadata": {},
     "output_type": "execute_result"
    }
   ],
   "source": [
    "df.groupby(['Funding','Type'])['FR'].count()"
   ]
  },
  {
   "cell_type": "code",
   "execution_count": 8,
   "metadata": {
    "scrolled": false
   },
   "outputs": [
    {
     "name": "stdout",
     "output_type": "stream",
     "text": [
      "                 Multiple Comparison of Means - Tukey HSD, FWER=0.05                  \n",
      "======================================================================================\n",
      "         group1                  group2         meandiff p-adj   lower   upper  reject\n",
      "--------------------------------------------------------------------------------------\n",
      "         privateCollege       privateUniversity  -0.1178 0.7527 -0.3601  0.1244  False\n",
      "         privateCollege           privateVoTech   0.0689    0.9 -0.2152  0.3531  False\n",
      "         privateCollege           publicCollege  -0.2673 0.6177 -0.7409  0.2064  False\n",
      "         privateCollege publicCommunity College  -0.2902 0.0069 -0.5304   -0.05   True\n",
      "         privateCollege        publicUniversity  -0.3299 0.0011   -0.57 -0.0897   True\n",
      "         privateCollege            publicVoTech   0.1881 0.5883 -0.1355  0.5116  False\n",
      "      privateUniversity           privateVoTech   0.1868 0.1689 -0.0362  0.4097  False\n",
      "      privateUniversity           publicCollege  -0.1495    0.9 -0.5891  0.2902  False\n",
      "      privateUniversity publicCommunity College  -0.1723 0.0307 -0.3355 -0.0092   True\n",
      "      privateUniversity        publicUniversity   -0.212 0.0026 -0.3752 -0.0489   True\n",
      "      privateUniversity            publicVoTech   0.3059 0.0157  0.0346  0.5773   True\n",
      "          privateVoTech           publicCollege  -0.3362 0.3281 -0.8003  0.1278  False\n",
      "          privateVoTech publicCommunity College  -0.3591  0.001 -0.5798 -0.1384   True\n",
      "          privateVoTech        publicUniversity  -0.3988  0.001 -0.6195 -0.1781   True\n",
      "          privateVoTech            publicVoTech   0.1191    0.9 -0.1903  0.4285  False\n",
      "          publicCollege publicCommunity College  -0.0229    0.9 -0.4614  0.4156  False\n",
      "          publicCollege        publicUniversity  -0.0626    0.9 -0.5011  0.3759  False\n",
      "          publicCollege            publicVoTech   0.4554 0.0874 -0.0338  0.9445  False\n",
      "publicCommunity College        publicUniversity  -0.0397    0.9 -0.1998  0.1204  False\n",
      "publicCommunity College            publicVoTech   0.4783  0.001  0.2087  0.7478   True\n",
      "       publicUniversity            publicVoTech   0.5179  0.001  0.2484  0.7875   True\n",
      "--------------------------------------------------------------------------------------\n"
     ]
    }
   ],
   "source": [
    "print(pairwise_tukeyhsd(endog=df['FR_fitted'], groups=df['FundType'], alpha=0.05))"
   ]
  },
  {
   "cell_type": "code",
   "execution_count": 9,
   "metadata": {
    "scrolled": false
   },
   "outputs": [
    {
     "name": "stdout",
     "output_type": "stream",
     "text": [
      "           Variable      N      Mean        SD        SE  95% Conf.  Interval\n",
      "0  Private colleges   40.0  1.733559  0.613235  0.096961   1.537437  1.929681\n",
      "1        All others  500.0  1.542141  0.463203  0.020715   1.501442  1.582841\n",
      "2          combined  540.0  1.556320  0.477872  0.020564   1.515924  1.596716\n",
      "                              Independent t-test   results\n",
      "0  Difference (Private colleges - All others) =     0.1914\n",
      "1                          Degrees of freedom =   538.0000\n",
      "2                                           t =     2.4490\n",
      "3                       Two side test p value =     0.0146\n",
      "4                      Difference < 0 p value =     0.9927\n",
      "5                      Difference > 0 p value =     0.0073\n",
      "6                                   Cohen's d =     0.4024\n",
      "7                                   Hedge's g =     0.4019\n",
      "8                              Glass's delta1 =     0.3121\n",
      "9                            Point-Biserial r =     0.1050\n"
     ]
    },
    {
     "name": "stderr",
     "output_type": "stream",
     "text": [
      "C:\\Users\\ekelseya\\anaconda3\\lib\\site-packages\\researchpy\\ttest.py:38: FutureWarning: The series.append method is deprecated and will be removed from pandas in a future version. Use pandas.concat instead.\n",
      "  groups = group1.append(group2, ignore_index= True)\n"
     ]
    }
   ],
   "source": [
    "summary, results = rp.ttest(group1=df['FR_fitted'][(df['FundType'] == 'privateCollege')], group1_name=\"Private colleges\",\n",
    "                            group2=df['FR_fitted'][(df['FundType'] != 'privateCollege')], group2_name=\"All others\")\n",
    "print(summary)\n",
    "print(results)"
   ]
  },
  {
   "cell_type": "code",
   "execution_count": 11,
   "metadata": {
    "scrolled": true
   },
   "outputs": [
    {
     "data": {
      "text/plain": [
       "Ttest_indResult(statistic=2.449018481891657, pvalue=0.01464258546306276)"
      ]
     },
     "execution_count": 11,
     "metadata": {},
     "output_type": "execute_result"
    }
   ],
   "source": [
    "stats.ttest_ind(df['FR_fitted'][(df['FundType'] == 'privateCollege')],\n",
    "                df['FR_fitted'][(df['FundType'] != 'privateCollege')])"
   ]
  },
  {
   "cell_type": "code",
   "execution_count": 12,
   "metadata": {
    "scrolled": true
   },
   "outputs": [
    {
     "name": "stdout",
     "output_type": "stream",
     "text": [
      "          Variable      N      Mean        SD        SE  95% Conf.  Interval\n",
      "0  Public colleges   10.0  1.466271  0.205799  0.065079   1.319051  1.613491\n",
      "1       All others  530.0  1.558019  0.481458  0.020913   1.516936  1.599102\n",
      "2         combined  540.0  1.556320  0.477872  0.020564   1.515924  1.596716\n",
      "                             Independent t-test   results\n",
      "0  Difference (Public colleges - All others) =    -0.0917\n",
      "1                         Degrees of freedom =   538.0000\n",
      "2                                          t =    -0.6011\n",
      "3                      Two side test p value =     0.5480\n",
      "4                     Difference < 0 p value =     0.2740\n",
      "5                     Difference > 0 p value =     0.7260\n",
      "6                                  Cohen's d =    -0.1919\n",
      "7                                  Hedge's g =    -0.1916\n",
      "8                             Glass's delta1 =    -0.4458\n",
      "9                           Point-Biserial r =    -0.0259\n"
     ]
    },
    {
     "name": "stderr",
     "output_type": "stream",
     "text": [
      "C:\\Users\\ekelseya\\anaconda3\\lib\\site-packages\\researchpy\\ttest.py:38: FutureWarning: The series.append method is deprecated and will be removed from pandas in a future version. Use pandas.concat instead.\n",
      "  groups = group1.append(group2, ignore_index= True)\n"
     ]
    }
   ],
   "source": [
    "summary, results = rp.ttest(group1=df['FR_fitted'][(df['FundType'] == 'publicCollege')], group1_name=\"Public colleges\",\n",
    "                            group2=df['FR_fitted'][(df['FundType'] != 'publicCollege')], group2_name=\"All others\")\n",
    "print(summary)\n",
    "print(results)"
   ]
  },
  {
   "cell_type": "code",
   "execution_count": 13,
   "metadata": {
    "scrolled": false
   },
   "outputs": [
    {
     "name": "stdout",
     "output_type": "stream",
     "text": [
      "               Variable      N      Mean        SD        SE  95% Conf.  \\\n",
      "0  Private universities  130.0  1.615722  0.523212  0.045889   1.524930   \n",
      "1            All others  410.0  1.537485  0.461657  0.022800   1.492666   \n",
      "2              combined  540.0  1.556320  0.477872  0.020564   1.515924   \n",
      "\n",
      "   Interval  \n",
      "0  1.706515  \n",
      "1  1.582304  \n",
      "2  1.596716  \n",
      "                                  Independent t-test   results\n",
      "0  Difference (Private universities - All others) =     0.0782\n",
      "1                              Degrees of freedom =   538.0000\n",
      "2                                               t =     1.6290\n",
      "3                           Two side test p value =     0.1039\n",
      "4                          Difference < 0 p value =     0.9481\n",
      "5                          Difference > 0 p value =     0.0519\n",
      "6                                       Cohen's d =     0.1640\n",
      "7                                       Hedge's g =     0.1637\n",
      "8                                  Glass's delta1 =     0.1495\n",
      "9                                Point-Biserial r =     0.0701\n"
     ]
    },
    {
     "name": "stderr",
     "output_type": "stream",
     "text": [
      "C:\\Users\\ekelseya\\anaconda3\\lib\\site-packages\\researchpy\\ttest.py:38: FutureWarning: The series.append method is deprecated and will be removed from pandas in a future version. Use pandas.concat instead.\n",
      "  groups = group1.append(group2, ignore_index= True)\n"
     ]
    }
   ],
   "source": [
    "summary, results = rp.ttest(group1=df['FR_fitted'][(df['FundType'] == 'privateUniversity')], group1_name=\"Private universities\",\n",
    "                            group2=df['FR_fitted'][(df['FundType'] != 'privateUniversity')], group2_name=\"All others\")\n",
    "print(summary)\n",
    "print(results)"
   ]
  },
  {
   "cell_type": "code",
   "execution_count": 14,
   "metadata": {
    "scrolled": false
   },
   "outputs": [
    {
     "name": "stdout",
     "output_type": "stream",
     "text": [
      "              Variable      N      Mean        SD        SE  95% Conf.  \\\n",
      "0  Public universities  140.0  1.403696  0.507745  0.042912   1.318851   \n",
      "1           All others  400.0  1.609739  0.455679  0.022784   1.564947   \n",
      "2             combined  540.0  1.556320  0.477872  0.020564   1.515924   \n",
      "\n",
      "   Interval  \n",
      "0  1.488541  \n",
      "1  1.654530  \n",
      "2  1.596716  \n",
      "                                 Independent t-test   results\n",
      "0  Difference (Public universities - All others) =    -0.2060\n",
      "1                             Degrees of freedom =   538.0000\n",
      "2                                              t =    -4.4673\n",
      "3                          Two side test p value =     0.0000\n",
      "4                         Difference < 0 p value =     0.0000\n",
      "5                         Difference > 0 p value =     1.0000\n",
      "6                                      Cohen's d =    -0.4387\n",
      "7                                      Hedge's g =    -0.4381\n",
      "8                                 Glass's delta1 =    -0.4058\n",
      "9                               Point-Biserial r =    -0.1891\n"
     ]
    },
    {
     "name": "stderr",
     "output_type": "stream",
     "text": [
      "C:\\Users\\ekelseya\\anaconda3\\lib\\site-packages\\researchpy\\ttest.py:38: FutureWarning: The series.append method is deprecated and will be removed from pandas in a future version. Use pandas.concat instead.\n",
      "  groups = group1.append(group2, ignore_index= True)\n"
     ]
    }
   ],
   "source": [
    "summary, results = rp.ttest(group1=df['FR_fitted'][(df['FundType'] == 'publicUniversity')], group1_name=\"Public universities\",\n",
    "                            group2=df['FR_fitted'][(df['FundType'] != 'publicUniversity')], group2_name=\"All others\")\n",
    "print(summary)\n",
    "print(results)"
   ]
  },
  {
   "cell_type": "code",
   "execution_count": 15,
   "metadata": {},
   "outputs": [
    {
     "data": {
      "text/plain": [
       "Ttest_indResult(statistic=-4.46734452431102, pvalue=9.65865585660817e-06)"
      ]
     },
     "execution_count": 15,
     "metadata": {},
     "output_type": "execute_result"
    }
   ],
   "source": [
    "stats.ttest_ind(df['FR_fitted'][(df['FundType'] == 'publicUniversity')],\n",
    "                df['FR_fitted'][(df['FundType'] != 'publicUniversity')])"
   ]
  },
  {
   "cell_type": "code",
   "execution_count": 16,
   "metadata": {
    "scrolled": true
   },
   "outputs": [
    {
     "name": "stdout",
     "output_type": "stream",
     "text": [
      "          Variable      N      Mean        SD        SE  95% Conf.  Interval\n",
      "0  Private VoTechs   50.0  1.802506  0.311993  0.044122   1.713839  1.891174\n",
      "1       All others  490.0  1.531199  0.484900  0.021906   1.488159  1.574240\n",
      "2         combined  540.0  1.556320  0.477872  0.020564   1.515924  1.596716\n",
      "                             Independent t-test   results\n",
      "0  Difference (Private VoTechs - All others) =     0.2713\n",
      "1                         Degrees of freedom =   538.0000\n",
      "2                                          t =     3.8735\n",
      "3                      Two side test p value =     0.0001\n",
      "4                     Difference < 0 p value =     0.9999\n",
      "5                     Difference > 0 p value =     0.0001\n",
      "6                                  Cohen's d =     0.5751\n",
      "7                                  Hedge's g =     0.5743\n",
      "8                             Glass's delta1 =     0.8696\n",
      "9                           Point-Biserial r =     0.1647\n"
     ]
    },
    {
     "name": "stderr",
     "output_type": "stream",
     "text": [
      "C:\\Users\\ekelseya\\anaconda3\\lib\\site-packages\\researchpy\\ttest.py:38: FutureWarning: The series.append method is deprecated and will be removed from pandas in a future version. Use pandas.concat instead.\n",
      "  groups = group1.append(group2, ignore_index= True)\n"
     ]
    }
   ],
   "source": [
    "summary, results = rp.ttest(group1=df['FR_fitted'][(df['FundType'] == 'privateVoTech')], group1_name=\"Private VoTechs\",\n",
    "                            group2=df['FR_fitted'][(df['FundType'] != 'privateVoTech')], group2_name=\"All others\")\n",
    "print(summary)\n",
    "print(results)"
   ]
  },
  {
   "cell_type": "code",
   "execution_count": 17,
   "metadata": {},
   "outputs": [
    {
     "data": {
      "text/plain": [
       "Ttest_indResult(statistic=3.8735117689948066, pvalue=0.0001204922746138038)"
      ]
     },
     "execution_count": 17,
     "metadata": {},
     "output_type": "execute_result"
    }
   ],
   "source": [
    "stats.ttest_ind(df['FR_fitted'][(df['FundType'] == 'privateVoTech')],\n",
    "                df['FR_fitted'][(df['FundType'] != 'privateVoTech')])"
   ]
  },
  {
   "cell_type": "code",
   "execution_count": 18,
   "metadata": {
    "scrolled": false
   },
   "outputs": [
    {
     "name": "stdout",
     "output_type": "stream",
     "text": [
      "         Variable      N      Mean        SD        SE  95% Conf.  Interval\n",
      "0  Public VoTechs   30.0  1.921630  0.467168  0.085293   1.747187  2.096074\n",
      "1      All others  510.0  1.534831  0.470169  0.020819   1.493929  1.575734\n",
      "2        combined  540.0  1.556320  0.477872  0.020564   1.515924  1.596716\n",
      "                            Independent t-test   results\n",
      "0  Difference (Public VoTechs - All others) =     0.3868\n",
      "1                        Degrees of freedom =   538.0000\n",
      "2                                         t =     4.3806\n",
      "3                     Two side test p value =     0.0000\n",
      "4                    Difference < 0 p value =     1.0000\n",
      "5                    Difference > 0 p value =     0.0000\n",
      "6                                 Cohen's d =     0.8230\n",
      "7                                 Hedge's g =     0.8218\n",
      "8                            Glass's delta1 =     0.8280\n",
      "9                          Point-Biserial r =     0.1856\n"
     ]
    },
    {
     "name": "stderr",
     "output_type": "stream",
     "text": [
      "C:\\Users\\ekelseya\\anaconda3\\lib\\site-packages\\researchpy\\ttest.py:38: FutureWarning: The series.append method is deprecated and will be removed from pandas in a future version. Use pandas.concat instead.\n",
      "  groups = group1.append(group2, ignore_index= True)\n"
     ]
    }
   ],
   "source": [
    "summary, results = rp.ttest(group1=df['FR_fitted'][(df['FundType'] == 'publicVoTech')], group1_name=\"Public VoTechs\",\n",
    "                            group2=df['FR_fitted'][(df['FundType'] != 'publicVoTech')], group2_name=\"All others\")\n",
    "print(summary)\n",
    "print(results)"
   ]
  },
  {
   "cell_type": "code",
   "execution_count": 19,
   "metadata": {},
   "outputs": [
    {
     "data": {
      "text/plain": [
       "Ttest_indResult(statistic=4.380554253224218, pvalue=1.4234096089934076e-05)"
      ]
     },
     "execution_count": 19,
     "metadata": {},
     "output_type": "execute_result"
    }
   ],
   "source": [
    "stats.ttest_ind(df['FR_fitted'][(df['FundType'] == 'publicVoTech')],\n",
    "                df['FR_fitted'][(df['FundType'] != 'publicVoTech')])"
   ]
  },
  {
   "cell_type": "code",
   "execution_count": 20,
   "metadata": {
    "scrolled": false
   },
   "outputs": [
    {
     "name": "stdout",
     "output_type": "stream",
     "text": [
      "             Variable      N      Mean        SD        SE  95% Conf.  \\\n",
      "0  Community Colleges  140.0  1.443374  0.292775  0.024744   1.394451   \n",
      "1          All others  400.0  1.595851  0.522096  0.026105   1.544531   \n",
      "2            combined  540.0  1.556320  0.477872  0.020564   1.515924   \n",
      "\n",
      "   Interval  \n",
      "0  1.492297  \n",
      "1  1.647172  \n",
      "2  1.596716  \n",
      "                                Independent t-test   results\n",
      "0  Difference (Community Colleges - All others) =    -0.1525\n",
      "1                            Degrees of freedom =   538.0000\n",
      "2                                             t =    -3.2786\n",
      "3                         Two side test p value =     0.0011\n",
      "4                        Difference < 0 p value =     0.0006\n",
      "5                        Difference > 0 p value =     0.9994\n",
      "6                                     Cohen's d =    -0.3219\n",
      "7                                     Hedge's g =    -0.3215\n",
      "8                                Glass's delta1 =    -0.5208\n",
      "9                              Point-Biserial r =    -0.1400\n"
     ]
    },
    {
     "name": "stderr",
     "output_type": "stream",
     "text": [
      "C:\\Users\\ekelseya\\anaconda3\\lib\\site-packages\\researchpy\\ttest.py:38: FutureWarning: The series.append method is deprecated and will be removed from pandas in a future version. Use pandas.concat instead.\n",
      "  groups = group1.append(group2, ignore_index= True)\n"
     ]
    }
   ],
   "source": [
    "summary, results = rp.ttest(group1=df['FR_fitted'][(df['FundType'] == 'publicCommunity College')], group1_name=\"Community Colleges\",\n",
    "                            group2=df['FR_fitted'][(df['FundType'] != 'publicCommunity College')], group2_name=\"All others\")\n",
    "print(summary)\n",
    "print(results)"
   ]
  },
  {
   "cell_type": "code",
   "execution_count": 21,
   "metadata": {},
   "outputs": [
    {
     "data": {
      "text/plain": [
       "Ttest_indResult(statistic=-3.278565061641866, pvalue=0.0011107848158906771)"
      ]
     },
     "execution_count": 21,
     "metadata": {},
     "output_type": "execute_result"
    }
   ],
   "source": [
    "stats.ttest_ind(df['FR_fitted'][(df['FundType'] == 'publicCommunity College')],\n",
    "                df['FR_fitted'][(df['FundType'] != 'publicCommunity College')])"
   ]
  }
 ],
 "metadata": {
  "kernelspec": {
   "display_name": "Python 3",
   "language": "python",
   "name": "python3"
  },
  "language_info": {
   "codemirror_mode": {
    "name": "ipython",
    "version": 3
   },
   "file_extension": ".py",
   "mimetype": "text/x-python",
   "name": "python",
   "nbconvert_exporter": "python",
   "pygments_lexer": "ipython3",
   "version": "3.8.5"
  }
 },
 "nbformat": 4,
 "nbformat_minor": 4
}
