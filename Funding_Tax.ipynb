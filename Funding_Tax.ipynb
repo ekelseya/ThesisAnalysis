{
 "cells": [
  {
   "cell_type": "code",
   "execution_count": 1,
   "metadata": {},
   "outputs": [
    {
     "name": "stderr",
     "output_type": "stream",
     "text": [
      "C:\\Users\\ekelseya\\anaconda3\\lib\\site-packages\\statsmodels\\tsa\\base\\tsa_model.py:7: FutureWarning: pandas.Int64Index is deprecated and will be removed from pandas in a future version. Use pandas.Index with the appropriate dtype instead.\n",
      "  from pandas import (to_datetime, Int64Index, DatetimeIndex, Period,\n",
      "C:\\Users\\ekelseya\\anaconda3\\lib\\site-packages\\statsmodels\\tsa\\base\\tsa_model.py:7: FutureWarning: pandas.Float64Index is deprecated and will be removed from pandas in a future version. Use pandas.Index with the appropriate dtype instead.\n",
      "  from pandas import (to_datetime, Int64Index, DatetimeIndex, Period,\n"
     ]
    },
    {
     "data": {
      "text/html": [
       "<div>\n",
       "<style scoped>\n",
       "    .dataframe tbody tr th:only-of-type {\n",
       "        vertical-align: middle;\n",
       "    }\n",
       "\n",
       "    .dataframe tbody tr th {\n",
       "        vertical-align: top;\n",
       "    }\n",
       "\n",
       "    .dataframe thead th {\n",
       "        text-align: right;\n",
       "    }\n",
       "</style>\n",
       "<table border=\"1\" class=\"dataframe\">\n",
       "  <thead>\n",
       "    <tr style=\"text-align: right;\">\n",
       "      <th></th>\n",
       "      <th>Unnamed: 0</th>\n",
       "      <th>Webpage</th>\n",
       "      <th>Page_Type</th>\n",
       "      <th>Institution</th>\n",
       "      <th>Funding</th>\n",
       "      <th>Tax_type</th>\n",
       "      <th>Region</th>\n",
       "      <th>Type</th>\n",
       "      <th>CU</th>\n",
       "      <th>CSU</th>\n",
       "      <th>CS_Department</th>\n",
       "      <th>CCCS</th>\n",
       "      <th>Elements</th>\n",
       "      <th>Errors</th>\n",
       "      <th>FR</th>\n",
       "      <th>FR_fitted</th>\n",
       "    </tr>\n",
       "  </thead>\n",
       "  <tbody>\n",
       "    <tr>\n",
       "      <th>0</th>\n",
       "      <td>0</td>\n",
       "      <td>https://www.adams.edu/</td>\n",
       "      <td>A</td>\n",
       "      <td>Adams State University</td>\n",
       "      <td>public</td>\n",
       "      <td>non-profit</td>\n",
       "      <td>Southwest</td>\n",
       "      <td>University</td>\n",
       "      <td>no</td>\n",
       "      <td>no</td>\n",
       "      <td>yes</td>\n",
       "      <td>no</td>\n",
       "      <td>698</td>\n",
       "      <td>1</td>\n",
       "      <td>0.001433</td>\n",
       "      <td>0.900164</td>\n",
       "    </tr>\n",
       "    <tr>\n",
       "      <th>1</th>\n",
       "      <td>1</td>\n",
       "      <td>https://www.adams.edu/academics/</td>\n",
       "      <td>C</td>\n",
       "      <td>Adams State University</td>\n",
       "      <td>public</td>\n",
       "      <td>non-profit</td>\n",
       "      <td>Southwest</td>\n",
       "      <td>University</td>\n",
       "      <td>no</td>\n",
       "      <td>no</td>\n",
       "      <td>yes</td>\n",
       "      <td>no</td>\n",
       "      <td>729</td>\n",
       "      <td>1</td>\n",
       "      <td>0.001372</td>\n",
       "      <td>0.891194</td>\n",
       "    </tr>\n",
       "    <tr>\n",
       "      <th>2</th>\n",
       "      <td>2</td>\n",
       "      <td>https://www.adams.edu/academics/graduate/couns...</td>\n",
       "      <td>D</td>\n",
       "      <td>Adams State University</td>\n",
       "      <td>public</td>\n",
       "      <td>non-profit</td>\n",
       "      <td>Southwest</td>\n",
       "      <td>University</td>\n",
       "      <td>no</td>\n",
       "      <td>no</td>\n",
       "      <td>yes</td>\n",
       "      <td>no</td>\n",
       "      <td>507</td>\n",
       "      <td>1</td>\n",
       "      <td>0.001972</td>\n",
       "      <td>0.969114</td>\n",
       "    </tr>\n",
       "    <tr>\n",
       "      <th>3</th>\n",
       "      <td>3</td>\n",
       "      <td>https://www.adams.edu/catalog/</td>\n",
       "      <td>C</td>\n",
       "      <td>Adams State University</td>\n",
       "      <td>public</td>\n",
       "      <td>non-profit</td>\n",
       "      <td>Southwest</td>\n",
       "      <td>University</td>\n",
       "      <td>no</td>\n",
       "      <td>no</td>\n",
       "      <td>yes</td>\n",
       "      <td>no</td>\n",
       "      <td>512</td>\n",
       "      <td>1</td>\n",
       "      <td>0.001953</td>\n",
       "      <td>0.966918</td>\n",
       "    </tr>\n",
       "    <tr>\n",
       "      <th>4</th>\n",
       "      <td>4</td>\n",
       "      <td>https://www.adams.edu/faculty-staff/</td>\n",
       "      <td>C</td>\n",
       "      <td>Adams State University</td>\n",
       "      <td>public</td>\n",
       "      <td>non-profit</td>\n",
       "      <td>Southwest</td>\n",
       "      <td>University</td>\n",
       "      <td>no</td>\n",
       "      <td>no</td>\n",
       "      <td>yes</td>\n",
       "      <td>no</td>\n",
       "      <td>645</td>\n",
       "      <td>1</td>\n",
       "      <td>0.001550</td>\n",
       "      <td>0.916706</td>\n",
       "    </tr>\n",
       "  </tbody>\n",
       "</table>\n",
       "</div>"
      ],
      "text/plain": [
       "   Unnamed: 0                                            Webpage Page_Type  \\\n",
       "0           0                             https://www.adams.edu/         A   \n",
       "1           1                   https://www.adams.edu/academics/         C   \n",
       "2           2  https://www.adams.edu/academics/graduate/couns...         D   \n",
       "3           3                     https://www.adams.edu/catalog/         C   \n",
       "4           4               https://www.adams.edu/faculty-staff/         C   \n",
       "\n",
       "              Institution Funding    Tax_type     Region        Type  CU CSU  \\\n",
       "0  Adams State University  public  non-profit  Southwest  University  no  no   \n",
       "1  Adams State University  public  non-profit  Southwest  University  no  no   \n",
       "2  Adams State University  public  non-profit  Southwest  University  no  no   \n",
       "3  Adams State University  public  non-profit  Southwest  University  no  no   \n",
       "4  Adams State University  public  non-profit  Southwest  University  no  no   \n",
       "\n",
       "  CS_Department CCCS  Elements  Errors        FR  FR_fitted  \n",
       "0           yes   no       698       1  0.001433   0.900164  \n",
       "1           yes   no       729       1  0.001372   0.891194  \n",
       "2           yes   no       507       1  0.001972   0.969114  \n",
       "3           yes   no       512       1  0.001953   0.966918  \n",
       "4           yes   no       645       1  0.001550   0.916706  "
      ]
     },
     "execution_count": 1,
     "metadata": {},
     "output_type": "execute_result"
    }
   ],
   "source": [
    "import numpy as np\n",
    "import pandas as pd\n",
    "import statsmodels.api as sm\n",
    "from statsmodels.formula.api import ols\n",
    "import researchpy as rp\n",
    "from scipy import stats\n",
    "from statsmodels.stats.multicomp import pairwise_tukeyhsd\n",
    "\n",
    "# Read in csv\n",
    "df = pd.read_csv('fittedFailureRate.csv', encoding='unicode_escape')\n",
    "df.head()"
   ]
  },
  {
   "cell_type": "code",
   "execution_count": 3,
   "metadata": {},
   "outputs": [],
   "source": [
    "df['FundTax'] = df['Funding'] + df['Tax_type']"
   ]
  },
  {
   "cell_type": "code",
   "execution_count": 49,
   "metadata": {},
   "outputs": [
    {
     "data": {
      "text/plain": [
       "Funding  Tax_type  \n",
       "private  non-profit    0.031175\n",
       "         profit        0.033475\n",
       "public   non-profit    0.019604\n",
       "Name: FR, dtype: float64"
      ]
     },
     "execution_count": 49,
     "metadata": {},
     "output_type": "execute_result"
    }
   ],
   "source": [
    "df.groupby(['Funding','Tax_type'])['FR'].mean()"
   ]
  },
  {
   "cell_type": "code",
   "execution_count": 50,
   "metadata": {},
   "outputs": [
    {
     "data": {
      "text/plain": [
       "Funding  Tax_type  \n",
       "private  non-profit    0.035378\n",
       "         profit        0.031243\n",
       "public   non-profit    0.023733\n",
       "Name: FR, dtype: float64"
      ]
     },
     "execution_count": 50,
     "metadata": {},
     "output_type": "execute_result"
    }
   ],
   "source": [
    "df.groupby(['Funding','Tax_type'])['FR'].std()"
   ]
  },
  {
   "cell_type": "code",
   "execution_count": 51,
   "metadata": {},
   "outputs": [
    {
     "data": {
      "text/plain": [
       "Funding  Tax_type  \n",
       "private  non-profit    0.001252\n",
       "         profit        0.000976\n",
       "public   non-profit    0.000563\n",
       "Name: FR, dtype: float64"
      ]
     },
     "execution_count": 51,
     "metadata": {},
     "output_type": "execute_result"
    }
   ],
   "source": [
    "df.groupby(['Funding','Tax_type'])['FR'].var()"
   ]
  },
  {
   "cell_type": "code",
   "execution_count": 52,
   "metadata": {
    "scrolled": true
   },
   "outputs": [
    {
     "data": {
      "text/plain": [
       "Funding  Tax_type  \n",
       "private  non-profit     90\n",
       "         profit        130\n",
       "public   non-profit    320\n",
       "Name: FR, dtype: int64"
      ]
     },
     "execution_count": 52,
     "metadata": {},
     "output_type": "execute_result"
    }
   ],
   "source": [
    "df.groupby(['Funding','Tax_type'])['FR'].count()"
   ]
  },
  {
   "cell_type": "code",
   "execution_count": 5,
   "metadata": {},
   "outputs": [
    {
     "name": "stdout",
     "output_type": "stream",
     "text": [
      "           Multiple Comparison of Means - Tukey HSD, FWER=0.05           \n",
      "=========================================================================\n",
      "      group1           group2      meandiff p-adj   lower   upper  reject\n",
      "-------------------------------------------------------------------------\n",
      "privatenon-profit    privateprofit   0.0832 0.3973 -0.0672  0.2337  False\n",
      "privatenon-profit publicnon-profit  -0.1588 0.0126 -0.2898 -0.0279   True\n",
      "    privateprofit publicnon-profit  -0.2421  0.001 -0.3562 -0.1279   True\n",
      "-------------------------------------------------------------------------\n"
     ]
    }
   ],
   "source": [
    "print(pairwise_tukeyhsd(endog=df['FR_fitted'], groups=df['FundTax'], alpha=0.05))"
   ]
  },
  {
   "cell_type": "code",
   "execution_count": 18,
   "metadata": {
    "scrolled": false
   },
   "outputs": [
    {
     "name": "stdout",
     "output_type": "stream",
     "text": [
      "             Variable      N      Mean        SD        SE  95% Conf.  \\\n",
      "0  Private for profit  130.0  1.713651  0.460905  0.040424   1.633671   \n",
      "1          All others  410.0  1.506435  0.472844  0.023352   1.460530   \n",
      "2            combined  540.0  1.556320  0.477872  0.020564   1.515924   \n",
      "\n",
      "   Interval  \n",
      "0  1.793631  \n",
      "1  1.552340  \n",
      "2  1.596716  \n",
      "                                Independent t-test   results\n",
      "0  Difference (Private for profit - All others) =     0.2072\n",
      "1                            Degrees of freedom =   538.0000\n",
      "2                                             t =     4.3801\n",
      "3                         Two side test p value =     0.0000\n",
      "4                        Difference < 0 p value =     1.0000\n",
      "5                        Difference > 0 p value =     0.0000\n",
      "6                                     Cohen's d =     0.4409\n",
      "7                                     Hedge's g =     0.4403\n",
      "8                                Glass's delta1 =     0.4496\n",
      "9                              Point-Biserial r =     0.1856\n"
     ]
    },
    {
     "name": "stderr",
     "output_type": "stream",
     "text": [
      "C:\\Users\\ekelseya\\anaconda3\\lib\\site-packages\\researchpy\\ttest.py:38: FutureWarning: The series.append method is deprecated and will be removed from pandas in a future version. Use pandas.concat instead.\n",
      "  groups = group1.append(group2, ignore_index= True)\n"
     ]
    }
   ],
   "source": [
    "summary, results = rp.ttest(group1=df['FR_fitted'][df['FundTax'] == 'privateprofit'], group1_name=\"Private for profit\",\n",
    "                            group2=df['FR_fitted'][df['FundTax'] != 'privateprofit'], group2_name=\"All others\")\n",
    "print(summary)\n",
    "print(results)"
   ]
  },
  {
   "cell_type": "code",
   "execution_count": 19,
   "metadata": {},
   "outputs": [
    {
     "data": {
      "text/plain": [
       "Ttest_indResult(statistic=4.380108287982066, pvalue=1.4262249847846117e-05)"
      ]
     },
     "execution_count": 19,
     "metadata": {},
     "output_type": "execute_result"
    }
   ],
   "source": [
    "stats.ttest_ind(df['FR_fitted'][df['FundTax'] == 'privateprofit'],\n",
    "                df['FR_fitted'][df['FundTax'] != 'privateprofit'])"
   ]
  },
  {
   "cell_type": "code",
   "execution_count": 21,
   "metadata": {
    "scrolled": false
   },
   "outputs": [
    {
     "name": "stdout",
     "output_type": "stream",
     "text": [
      "             Variable      N      Mean        SD        SE  95% Conf.  \\\n",
      "0  Private non-profit   90.0  1.630410  0.564686  0.059523   1.512139   \n",
      "1          All others  450.0  1.541502  0.457831  0.021582   1.499087   \n",
      "2            combined  540.0  1.556320  0.477872  0.020564   1.515924   \n",
      "\n",
      "   Interval  \n",
      "0  1.748681  \n",
      "1  1.583917  \n",
      "2  1.596716  \n",
      "                                Independent t-test   results\n",
      "0  Difference (Private non-profit - All others) =     0.0889\n",
      "1                            Degrees of freedom =   538.0000\n",
      "2                                             t =     1.6136\n",
      "3                         Two side test p value =     0.1072\n",
      "4                        Difference < 0 p value =     0.9464\n",
      "5                        Difference > 0 p value =     0.0536\n",
      "6                                     Cohen's d =     0.1863\n",
      "7                                     Hedge's g =     0.1861\n",
      "8                                Glass's delta1 =     0.1574\n",
      "9                              Point-Biserial r =     0.0694\n"
     ]
    },
    {
     "name": "stderr",
     "output_type": "stream",
     "text": [
      "C:\\Users\\ekelseya\\anaconda3\\lib\\site-packages\\researchpy\\ttest.py:38: FutureWarning: The series.append method is deprecated and will be removed from pandas in a future version. Use pandas.concat instead.\n",
      "  groups = group1.append(group2, ignore_index= True)\n"
     ]
    }
   ],
   "source": [
    "summary, results = rp.ttest(group1=df['FR_fitted'][df['FundTax'] == 'privatenon-profit'], group1_name=\"Private non-profit\",\n",
    "                            group2=df['FR_fitted'][df['FundTax'] != 'privatenon-profit'], group2_name=\"All others\")\n",
    "print(summary)\n",
    "print(results)\n",
    "\n",
    "# No correlation"
   ]
  },
  {
   "cell_type": "code",
   "execution_count": 22,
   "metadata": {
    "scrolled": false
   },
   "outputs": [
    {
     "data": {
      "text/plain": [
       "Ttest_indResult(statistic=1.6136269187435694, pvalue=0.10719472271701158)"
      ]
     },
     "execution_count": 22,
     "metadata": {},
     "output_type": "execute_result"
    }
   ],
   "source": [
    "stats.ttest_ind(df['FR_fitted'][df['FundTax'] == 'privatenon-profit'],\n",
    "                df['FR_fitted'][df['FundTax'] != 'privatenon-profit'])"
   ]
  },
  {
   "cell_type": "code",
   "execution_count": 23,
   "metadata": {
    "scrolled": true
   },
   "outputs": [
    {
     "name": "stdout",
     "output_type": "stream",
     "text": [
      "            Variable      N      Mean        SD        SE  95% Conf.  Interval\n",
      "0  Public non-profit  320.0  1.471567  0.438339  0.024504   1.423357  1.519776\n",
      "1         All others  220.0  1.679598  0.506361  0.034139   1.612315  1.746881\n",
      "2           combined  540.0  1.556320  0.477872  0.020564   1.515924  1.596716\n",
      "                               Independent t-test   results\n",
      "0  Difference (Public non-profit - All others) =    -0.2080\n",
      "1                           Degrees of freedom =   538.0000\n",
      "2                                            t =    -5.0838\n",
      "3                        Two side test p value =     0.0000\n",
      "4                       Difference < 0 p value =     0.0000\n",
      "5                       Difference > 0 p value =     1.0000\n",
      "6                                    Cohen's d =    -0.4452\n",
      "7                                    Hedge's g =    -0.4446\n",
      "8                               Glass's delta1 =    -0.4746\n",
      "9                             Point-Biserial r =    -0.2141\n"
     ]
    },
    {
     "name": "stderr",
     "output_type": "stream",
     "text": [
      "C:\\Users\\ekelseya\\anaconda3\\lib\\site-packages\\researchpy\\ttest.py:38: FutureWarning: The series.append method is deprecated and will be removed from pandas in a future version. Use pandas.concat instead.\n",
      "  groups = group1.append(group2, ignore_index= True)\n"
     ]
    }
   ],
   "source": [
    "summary, results = rp.ttest(group1=df['FR_fitted'][df['FundTax'] == 'publicnon-profit'], group1_name=\"Public non-profit\",\n",
    "                            group2=df['FR_fitted'][df['FundTax'] != 'publicnon-profit'], group2_name=\"All others\")\n",
    "print(summary)\n",
    "print(results)\n",
    "\n",
    "# No correlation"
   ]
  },
  {
   "cell_type": "code",
   "execution_count": 24,
   "metadata": {
    "scrolled": true
   },
   "outputs": [
    {
     "data": {
      "text/plain": [
       "Ttest_indResult(statistic=-5.083840983433382, pvalue=5.113661123884492e-07)"
      ]
     },
     "execution_count": 24,
     "metadata": {},
     "output_type": "execute_result"
    }
   ],
   "source": [
    "stats.ttest_ind(df['FR_fitted'][df['FundTax'] == 'publicnon-profit'],\n",
    "                df['FR_fitted'][df['FundTax'] != 'publicnon-profit'])"
   ]
  }
 ],
 "metadata": {
  "kernelspec": {
   "display_name": "Python 3",
   "language": "python",
   "name": "python3"
  },
  "language_info": {
   "codemirror_mode": {
    "name": "ipython",
    "version": 3
   },
   "file_extension": ".py",
   "mimetype": "text/x-python",
   "name": "python",
   "nbconvert_exporter": "python",
   "pygments_lexer": "ipython3",
   "version": "3.8.5"
  }
 },
 "nbformat": 4,
 "nbformat_minor": 4
}
