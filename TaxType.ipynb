{
 "cells": [
  {
   "cell_type": "code",
   "execution_count": 2,
   "metadata": {},
   "outputs": [
    {
     "name": "stderr",
     "output_type": "stream",
     "text": [
      "C:\\Users\\ekelseya\\anaconda3\\lib\\site-packages\\statsmodels\\tsa\\base\\tsa_model.py:7: FutureWarning: pandas.Int64Index is deprecated and will be removed from pandas in a future version. Use pandas.Index with the appropriate dtype instead.\n",
      "  from pandas import (to_datetime, Int64Index, DatetimeIndex, Period,\n",
      "C:\\Users\\ekelseya\\anaconda3\\lib\\site-packages\\statsmodels\\tsa\\base\\tsa_model.py:7: FutureWarning: pandas.Float64Index is deprecated and will be removed from pandas in a future version. Use pandas.Index with the appropriate dtype instead.\n",
      "  from pandas import (to_datetime, Int64Index, DatetimeIndex, Period,\n"
     ]
    },
    {
     "data": {
      "text/html": [
       "<div>\n",
       "<style scoped>\n",
       "    .dataframe tbody tr th:only-of-type {\n",
       "        vertical-align: middle;\n",
       "    }\n",
       "\n",
       "    .dataframe tbody tr th {\n",
       "        vertical-align: top;\n",
       "    }\n",
       "\n",
       "    .dataframe thead th {\n",
       "        text-align: right;\n",
       "    }\n",
       "</style>\n",
       "<table border=\"1\" class=\"dataframe\">\n",
       "  <thead>\n",
       "    <tr style=\"text-align: right;\">\n",
       "      <th></th>\n",
       "      <th>Unnamed: 0</th>\n",
       "      <th>Webpage</th>\n",
       "      <th>Page_Type</th>\n",
       "      <th>Institution</th>\n",
       "      <th>Funding</th>\n",
       "      <th>Tax_type</th>\n",
       "      <th>Region</th>\n",
       "      <th>Type</th>\n",
       "      <th>CU</th>\n",
       "      <th>CSU</th>\n",
       "      <th>CS_Department</th>\n",
       "      <th>CCCS</th>\n",
       "      <th>Elements</th>\n",
       "      <th>Errors</th>\n",
       "      <th>FR</th>\n",
       "      <th>FR_fitted</th>\n",
       "      <th>TaxType</th>\n",
       "    </tr>\n",
       "  </thead>\n",
       "  <tbody>\n",
       "    <tr>\n",
       "      <th>0</th>\n",
       "      <td>0</td>\n",
       "      <td>https://www.adams.edu/</td>\n",
       "      <td>A</td>\n",
       "      <td>Adams State University</td>\n",
       "      <td>public</td>\n",
       "      <td>non-profit</td>\n",
       "      <td>Southwest</td>\n",
       "      <td>University</td>\n",
       "      <td>no</td>\n",
       "      <td>no</td>\n",
       "      <td>yes</td>\n",
       "      <td>no</td>\n",
       "      <td>698</td>\n",
       "      <td>1</td>\n",
       "      <td>0.001433</td>\n",
       "      <td>0.900164</td>\n",
       "      <td>non-profitUniversity</td>\n",
       "    </tr>\n",
       "    <tr>\n",
       "      <th>1</th>\n",
       "      <td>1</td>\n",
       "      <td>https://www.adams.edu/academics/</td>\n",
       "      <td>C</td>\n",
       "      <td>Adams State University</td>\n",
       "      <td>public</td>\n",
       "      <td>non-profit</td>\n",
       "      <td>Southwest</td>\n",
       "      <td>University</td>\n",
       "      <td>no</td>\n",
       "      <td>no</td>\n",
       "      <td>yes</td>\n",
       "      <td>no</td>\n",
       "      <td>729</td>\n",
       "      <td>1</td>\n",
       "      <td>0.001372</td>\n",
       "      <td>0.891194</td>\n",
       "      <td>non-profitUniversity</td>\n",
       "    </tr>\n",
       "    <tr>\n",
       "      <th>2</th>\n",
       "      <td>2</td>\n",
       "      <td>https://www.adams.edu/academics/graduate/couns...</td>\n",
       "      <td>D</td>\n",
       "      <td>Adams State University</td>\n",
       "      <td>public</td>\n",
       "      <td>non-profit</td>\n",
       "      <td>Southwest</td>\n",
       "      <td>University</td>\n",
       "      <td>no</td>\n",
       "      <td>no</td>\n",
       "      <td>yes</td>\n",
       "      <td>no</td>\n",
       "      <td>507</td>\n",
       "      <td>1</td>\n",
       "      <td>0.001972</td>\n",
       "      <td>0.969114</td>\n",
       "      <td>non-profitUniversity</td>\n",
       "    </tr>\n",
       "    <tr>\n",
       "      <th>3</th>\n",
       "      <td>3</td>\n",
       "      <td>https://www.adams.edu/catalog/</td>\n",
       "      <td>C</td>\n",
       "      <td>Adams State University</td>\n",
       "      <td>public</td>\n",
       "      <td>non-profit</td>\n",
       "      <td>Southwest</td>\n",
       "      <td>University</td>\n",
       "      <td>no</td>\n",
       "      <td>no</td>\n",
       "      <td>yes</td>\n",
       "      <td>no</td>\n",
       "      <td>512</td>\n",
       "      <td>1</td>\n",
       "      <td>0.001953</td>\n",
       "      <td>0.966918</td>\n",
       "      <td>non-profitUniversity</td>\n",
       "    </tr>\n",
       "    <tr>\n",
       "      <th>4</th>\n",
       "      <td>4</td>\n",
       "      <td>https://www.adams.edu/faculty-staff/</td>\n",
       "      <td>C</td>\n",
       "      <td>Adams State University</td>\n",
       "      <td>public</td>\n",
       "      <td>non-profit</td>\n",
       "      <td>Southwest</td>\n",
       "      <td>University</td>\n",
       "      <td>no</td>\n",
       "      <td>no</td>\n",
       "      <td>yes</td>\n",
       "      <td>no</td>\n",
       "      <td>645</td>\n",
       "      <td>1</td>\n",
       "      <td>0.001550</td>\n",
       "      <td>0.916706</td>\n",
       "      <td>non-profitUniversity</td>\n",
       "    </tr>\n",
       "  </tbody>\n",
       "</table>\n",
       "</div>"
      ],
      "text/plain": [
       "   Unnamed: 0                                            Webpage Page_Type  \\\n",
       "0           0                             https://www.adams.edu/         A   \n",
       "1           1                   https://www.adams.edu/academics/         C   \n",
       "2           2  https://www.adams.edu/academics/graduate/couns...         D   \n",
       "3           3                     https://www.adams.edu/catalog/         C   \n",
       "4           4               https://www.adams.edu/faculty-staff/         C   \n",
       "\n",
       "              Institution Funding    Tax_type     Region        Type  CU CSU  \\\n",
       "0  Adams State University  public  non-profit  Southwest  University  no  no   \n",
       "1  Adams State University  public  non-profit  Southwest  University  no  no   \n",
       "2  Adams State University  public  non-profit  Southwest  University  no  no   \n",
       "3  Adams State University  public  non-profit  Southwest  University  no  no   \n",
       "4  Adams State University  public  non-profit  Southwest  University  no  no   \n",
       "\n",
       "  CS_Department CCCS  Elements  Errors        FR  FR_fitted  \\\n",
       "0           yes   no       698       1  0.001433   0.900164   \n",
       "1           yes   no       729       1  0.001372   0.891194   \n",
       "2           yes   no       507       1  0.001972   0.969114   \n",
       "3           yes   no       512       1  0.001953   0.966918   \n",
       "4           yes   no       645       1  0.001550   0.916706   \n",
       "\n",
       "                TaxType  \n",
       "0  non-profitUniversity  \n",
       "1  non-profitUniversity  \n",
       "2  non-profitUniversity  \n",
       "3  non-profitUniversity  \n",
       "4  non-profitUniversity  "
      ]
     },
     "execution_count": 2,
     "metadata": {},
     "output_type": "execute_result"
    }
   ],
   "source": [
    "import numpy as np\n",
    "import pandas as pd\n",
    "import statsmodels.api as sm\n",
    "from statsmodels.formula.api import ols\n",
    "import researchpy as rp\n",
    "from scipy import stats\n",
    "from statsmodels.stats.multicomp import pairwise_tukeyhsd\n",
    "\n",
    "import seaborn as sns\n",
    "\n",
    "# Read in csv\n",
    "df = pd.read_csv('fittedFailureRate.csv', encoding='unicode_escape')\n",
    "df['TaxType'] = df['Tax_type'] + df['Type']\n",
    "df.head()"
   ]
  },
  {
   "cell_type": "code",
   "execution_count": 3,
   "metadata": {},
   "outputs": [
    {
     "data": {
      "text/plain": [
       "Tax_type    Type             \n",
       "non-profit  College              0.028544\n",
       "            Community College    0.014357\n",
       "            University           0.022785\n",
       "            VoTech               0.049524\n",
       "profit      College              0.042185\n",
       "            University           0.027550\n",
       "            VoTech               0.034175\n",
       "Name: FR, dtype: float64"
      ]
     },
     "execution_count": 3,
     "metadata": {},
     "output_type": "execute_result"
    }
   ],
   "source": [
    "df.groupby(['Tax_type','Type'])['FR'].mean()"
   ]
  },
  {
   "cell_type": "code",
   "execution_count": 4,
   "metadata": {},
   "outputs": [
    {
     "data": {
      "text/plain": [
       "Tax_type    Type             \n",
       "non-profit  College              0.046960\n",
       "            Community College    0.015461\n",
       "            University           0.027242\n",
       "            VoTech               0.032664\n",
       "profit      College              0.037769\n",
       "            University           0.027413\n",
       "            VoTech               0.029855\n",
       "Name: FR, dtype: float64"
      ]
     },
     "execution_count": 4,
     "metadata": {},
     "output_type": "execute_result"
    }
   ],
   "source": [
    "df.groupby(['Tax_type','Type'])['FR'].std()"
   ]
  },
  {
   "cell_type": "code",
   "execution_count": 5,
   "metadata": {},
   "outputs": [
    {
     "data": {
      "text/plain": [
       "Tax_type    Type             \n",
       "non-profit  College              0.002205\n",
       "            Community College    0.000239\n",
       "            University           0.000742\n",
       "            VoTech               0.001067\n",
       "profit      College              0.001426\n",
       "            University           0.000751\n",
       "            VoTech               0.000891\n",
       "Name: FR, dtype: float64"
      ]
     },
     "execution_count": 5,
     "metadata": {},
     "output_type": "execute_result"
    }
   ],
   "source": [
    "df.groupby(['Tax_type','Type'])['FR'].var()"
   ]
  },
  {
   "cell_type": "code",
   "execution_count": 6,
   "metadata": {
    "scrolled": false
   },
   "outputs": [
    {
     "data": {
      "text/plain": [
       "Tax_type    Type             \n",
       "non-profit  College               20\n",
       "            Community College    140\n",
       "            University           220\n",
       "            VoTech                30\n",
       "profit      College               30\n",
       "            University            50\n",
       "            VoTech                50\n",
       "Name: FR, dtype: int64"
      ]
     },
     "execution_count": 6,
     "metadata": {},
     "output_type": "execute_result"
    }
   ],
   "source": [
    "df.groupby(['Tax_type','Type'])['FR'].count()"
   ]
  },
  {
   "cell_type": "code",
   "execution_count": 7,
   "metadata": {},
   "outputs": [
    {
     "name": "stdout",
     "output_type": "stream",
     "text": [
      "                     Multiple Comparison of Means - Tukey HSD, FWER=0.05                     \n",
      "=============================================================================================\n",
      "           group1                      group2           meandiff p-adj   lower  upper  reject\n",
      "---------------------------------------------------------------------------------------------\n",
      "          non-profitCollege non-profitCommunity College  -0.2099  0.471 -0.5339 0.1141  False\n",
      "          non-profitCollege        non-profitUniversity  -0.1767 0.6283 -0.4932 0.1399  False\n",
      "          non-profitCollege            non-profitVoTech   0.2683 0.3988 -0.1229 0.6596  False\n",
      "          non-profitCollege               profitCollege   0.0447    0.9 -0.3465 0.4359  False\n",
      "          non-profitCollege            profitUniversity  -0.0191    0.9 -0.3777 0.3395  False\n",
      "          non-profitCollege                profitVoTech   0.1492 0.8746 -0.2094 0.5078  False\n",
      "non-profitCommunity College        non-profitUniversity   0.0332    0.9 -0.1133 0.1798  False\n",
      "non-profitCommunity College            non-profitVoTech   0.4783  0.001  0.2056 0.7509   True\n",
      "non-profitCommunity College               profitCollege   0.2546 0.0855 -0.0181 0.5273  False\n",
      "non-profitCommunity College            profitUniversity   0.1908 0.1509 -0.0325 0.4141  False\n",
      "non-profitCommunity College                profitVoTech   0.3591  0.001  0.1358 0.5824   True\n",
      "       non-profitUniversity            non-profitVoTech    0.445  0.001  0.1813 0.7088   True\n",
      "       non-profitUniversity               profitCollege   0.2214 0.1673 -0.0424 0.4852  False\n",
      "       non-profitUniversity            profitUniversity   0.1576 0.2991 -0.0547 0.3699  False\n",
      "       non-profitUniversity                profitVoTech   0.3259  0.001  0.1136 0.5382   True\n",
      "           non-profitVoTech               profitCollege  -0.2236 0.4874 -0.5736 0.1263  False\n",
      "           non-profitVoTech            profitUniversity  -0.2874 0.0957 -0.6004 0.0256  False\n",
      "           non-profitVoTech                profitVoTech  -0.1191    0.9 -0.4321 0.1939  False\n",
      "              profitCollege            profitUniversity  -0.0638    0.9 -0.3768 0.2492  False\n",
      "              profitCollege                profitVoTech   0.1045    0.9 -0.2085 0.4175  False\n",
      "           profitUniversity                profitVoTech   0.1683 0.5196 -0.1028 0.4394  False\n",
      "---------------------------------------------------------------------------------------------\n"
     ]
    }
   ],
   "source": [
    "print(pairwise_tukeyhsd(endog=df['FR_fitted'], groups=df['TaxType'], alpha=0.05))"
   ]
  },
  {
   "cell_type": "code",
   "execution_count": 8,
   "metadata": {
    "scrolled": false
   },
   "outputs": [
    {
     "name": "stdout",
     "output_type": "stream",
     "text": [
      "              Variable      N      Mean        SD        SE  95% Conf.  \\\n",
      "0  Non-profit Colleges   20.0  1.653281  0.366627  0.081980   1.481695   \n",
      "1           All others  520.0  1.552591  0.481524  0.021116   1.511107   \n",
      "2             combined  540.0  1.556320  0.477872  0.020564   1.515924   \n",
      "\n",
      "   Interval  \n",
      "0  1.824868  \n",
      "1  1.594075  \n",
      "2  1.596716  \n",
      "                                 Independent t-test   results\n",
      "0  Difference (Non-profit Colleges - All others) =     0.1007\n",
      "1                             Degrees of freedom =   538.0000\n",
      "2                                              t =     0.9246\n",
      "3                          Two side test p value =     0.3556\n",
      "4                         Difference < 0 p value =     0.8222\n",
      "5                         Difference > 0 p value =     0.1778\n",
      "6                                      Cohen's d =     0.2107\n",
      "7                                      Hedge's g =     0.2104\n",
      "8                                 Glass's delta1 =     0.2746\n",
      "9                               Point-Biserial r =     0.0398\n"
     ]
    },
    {
     "name": "stderr",
     "output_type": "stream",
     "text": [
      "C:\\Users\\ekelseya\\anaconda3\\lib\\site-packages\\researchpy\\ttest.py:38: FutureWarning: The series.append method is deprecated and will be removed from pandas in a future version. Use pandas.concat instead.\n",
      "  groups = group1.append(group2, ignore_index= True)\n"
     ]
    }
   ],
   "source": [
    "summary, results = rp.ttest(group1=df['FR_fitted'][df['TaxType'] == 'non-profitCollege'], group1_name=\"Non-profit Colleges\",\n",
    "                            group2=df['FR_fitted'][df['TaxType'] != 'non-profitCollege'], group2_name=\"All others\")\n",
    "print(summary)\n",
    "print(results)"
   ]
  },
  {
   "cell_type": "code",
   "execution_count": 10,
   "metadata": {
    "scrolled": false
   },
   "outputs": [
    {
     "name": "stdout",
     "output_type": "stream",
     "text": [
      "          Variable      N      Mean        SD        SE  95% Conf.  Interval\n",
      "0  Profit Colleges   30.0  1.697981  0.670591  0.122433   1.447578  1.948384\n",
      "1       All others  510.0  1.547987  0.463625  0.020530   1.507654  1.588321\n",
      "2         combined  540.0  1.556320  0.477872  0.020564   1.515924  1.596716\n",
      "                             Independent t-test   results\n",
      "0  Difference (Profit Colleges - All others) =     0.1500\n",
      "1                         Degrees of freedom =   538.0000\n",
      "2                                          t =     1.6735\n",
      "3                      Two side test p value =     0.0948\n",
      "4                     Difference < 0 p value =     0.9526\n",
      "5                     Difference > 0 p value =     0.0474\n",
      "6                                  Cohen's d =     0.3144\n",
      "7                                  Hedge's g =     0.3140\n",
      "8                             Glass's delta1 =     0.2237\n",
      "9                           Point-Biserial r =     0.0720\n"
     ]
    },
    {
     "name": "stderr",
     "output_type": "stream",
     "text": [
      "C:\\Users\\ekelseya\\anaconda3\\lib\\site-packages\\researchpy\\ttest.py:38: FutureWarning: The series.append method is deprecated and will be removed from pandas in a future version. Use pandas.concat instead.\n",
      "  groups = group1.append(group2, ignore_index= True)\n"
     ]
    }
   ],
   "source": [
    "summary, results = rp.ttest(group1=df['FR_fitted'][df['TaxType'] == 'profitCollege'], group1_name=\"Profit Colleges\",\n",
    "                            group2=df['FR_fitted'][df['TaxType'] != 'profitCollege'], group2_name=\"All others\")\n",
    "print(summary)\n",
    "print(results)"
   ]
  },
  {
   "cell_type": "code",
   "execution_count": 11,
   "metadata": {
    "scrolled": false
   },
   "outputs": [
    {
     "name": "stdout",
     "output_type": "stream",
     "text": [
      "                  Variable      N      Mean        SD        SE  95% Conf.  \\\n",
      "0  Non-profit Universities  220.0  1.476597  0.541820  0.036530   1.404603   \n",
      "1               All others  320.0  1.611130  0.420612  0.023513   1.564870   \n",
      "2                 combined  540.0  1.556320  0.477872  0.020564   1.515924   \n",
      "\n",
      "   Interval  \n",
      "0  1.548592  \n",
      "1  1.657390  \n",
      "2  1.596716  \n",
      "                                  Independent t-test   results\n",
      "0  Difference (Non-profit Universities - All othe...   -0.1345\n",
      "1                              Degrees of freedom =   538.0000\n",
      "2                                               t =    -3.2427\n",
      "3                           Two side test p value =     0.0013\n",
      "4                          Difference < 0 p value =     0.0006\n",
      "5                          Difference > 0 p value =     0.9994\n",
      "6                                       Cohen's d =    -0.2840\n",
      "7                                       Hedge's g =    -0.2836\n",
      "8                                  Glass's delta1 =    -0.2483\n",
      "9                                Point-Biserial r =    -0.1385\n"
     ]
    },
    {
     "name": "stderr",
     "output_type": "stream",
     "text": [
      "C:\\Users\\ekelseya\\anaconda3\\lib\\site-packages\\researchpy\\ttest.py:38: FutureWarning: The series.append method is deprecated and will be removed from pandas in a future version. Use pandas.concat instead.\n",
      "  groups = group1.append(group2, ignore_index= True)\n"
     ]
    }
   ],
   "source": [
    "summary, results = rp.ttest(group1=df['FR_fitted'][df['TaxType'] == 'non-profitUniversity'], group1_name=\"Non-profit Universities\",\n",
    "                            group2=df['FR_fitted'][df['TaxType'] != 'non-profitUniversity'], group2_name=\"All others\")\n",
    "print(summary)\n",
    "print(results)"
   ]
  },
  {
   "cell_type": "code",
   "execution_count": 12,
   "metadata": {
    "scrolled": true
   },
   "outputs": [
    {
     "data": {
      "text/plain": [
       "Ttest_indResult(statistic=-3.2426876444392034, pvalue=0.0012574750402337272)"
      ]
     },
     "execution_count": 12,
     "metadata": {},
     "output_type": "execute_result"
    }
   ],
   "source": [
    "stats.ttest_ind(df['FR_fitted'][df['TaxType'] == 'non-profitUniversity'],\n",
    "                df['FR_fitted'][df['TaxType'] != 'non-profitUniversity'])"
   ]
  },
  {
   "cell_type": "code",
   "execution_count": 13,
   "metadata": {
    "scrolled": false
   },
   "outputs": [
    {
     "name": "stdout",
     "output_type": "stream",
     "text": [
      "              Variable      N      Mean        SD        SE  95% Conf.  \\\n",
      "0  Profit Universities   50.0  1.634199  0.425596  0.060188   1.513246   \n",
      "1           All others  490.0  1.548373  0.482574  0.021800   1.505539   \n",
      "2             combined  540.0  1.556320  0.477872  0.020564   1.515924   \n",
      "\n",
      "   Interval  \n",
      "0  1.755152  \n",
      "1  1.591208  \n",
      "2  1.596716  \n",
      "                                 Independent t-test   results\n",
      "0  Difference (Profit Universities - All others) =     0.0858\n",
      "1                             Degrees of freedom =   538.0000\n",
      "2                                              t =     1.2103\n",
      "3                          Two side test p value =     0.2267\n",
      "4                         Difference < 0 p value =     0.8866\n",
      "5                         Difference > 0 p value =     0.1134\n",
      "6                                      Cohen's d =     0.1797\n",
      "7                                      Hedge's g =     0.1794\n",
      "8                                 Glass's delta1 =     0.2017\n",
      "9                               Point-Biserial r =     0.0521\n"
     ]
    },
    {
     "name": "stderr",
     "output_type": "stream",
     "text": [
      "C:\\Users\\ekelseya\\anaconda3\\lib\\site-packages\\researchpy\\ttest.py:38: FutureWarning: The series.append method is deprecated and will be removed from pandas in a future version. Use pandas.concat instead.\n",
      "  groups = group1.append(group2, ignore_index= True)\n"
     ]
    }
   ],
   "source": [
    "summary, results = rp.ttest(group1=df['FR_fitted'][df['TaxType'] == 'profitUniversity'], group1_name=\"Profit Universities\",\n",
    "                            group2=df['FR_fitted'][df['TaxType'] != 'profitUniversity'], group2_name=\"All others\")\n",
    "print(summary)\n",
    "print(results)"
   ]
  },
  {
   "cell_type": "code",
   "execution_count": 14,
   "metadata": {
    "scrolled": false
   },
   "outputs": [
    {
     "name": "stdout",
     "output_type": "stream",
     "text": [
      "             Variable      N      Mean        SD        SE  95% Conf.  \\\n",
      "0  Non-profit VoTechs   30.0  1.921630  0.467168  0.085293   1.747187   \n",
      "1          All others  510.0  1.534831  0.470169  0.020819   1.493929   \n",
      "2            combined  540.0  1.556320  0.477872  0.020564   1.515924   \n",
      "\n",
      "   Interval  \n",
      "0  2.096074  \n",
      "1  1.575734  \n",
      "2  1.596716  \n",
      "                                Independent t-test   results\n",
      "0  Difference (Non-profit VoTechs - All others) =     0.3868\n",
      "1                            Degrees of freedom =   538.0000\n",
      "2                                             t =     4.3806\n",
      "3                         Two side test p value =     0.0000\n",
      "4                        Difference < 0 p value =     1.0000\n",
      "5                        Difference > 0 p value =     0.0000\n",
      "6                                     Cohen's d =     0.8230\n",
      "7                                     Hedge's g =     0.8218\n",
      "8                                Glass's delta1 =     0.8280\n",
      "9                              Point-Biserial r =     0.1856\n"
     ]
    },
    {
     "name": "stderr",
     "output_type": "stream",
     "text": [
      "C:\\Users\\ekelseya\\anaconda3\\lib\\site-packages\\researchpy\\ttest.py:38: FutureWarning: The series.append method is deprecated and will be removed from pandas in a future version. Use pandas.concat instead.\n",
      "  groups = group1.append(group2, ignore_index= True)\n"
     ]
    }
   ],
   "source": [
    "summary, results = rp.ttest(group1=df['FR_fitted'][df['TaxType'] == 'non-profitVoTech'], group1_name=\"Non-profit VoTechs\",\n",
    "                            group2=df['FR_fitted'][df['TaxType'] != 'non-profitVoTech'], group2_name=\"All others\")\n",
    "print(summary)\n",
    "print(results)"
   ]
  },
  {
   "cell_type": "code",
   "execution_count": 16,
   "metadata": {
    "scrolled": true
   },
   "outputs": [
    {
     "data": {
      "text/plain": [
       "Ttest_indResult(statistic=4.380554253224218, pvalue=1.4234096089934076e-05)"
      ]
     },
     "execution_count": 16,
     "metadata": {},
     "output_type": "execute_result"
    }
   ],
   "source": [
    "stats.ttest_ind(df['FR_fitted'][df['TaxType'] == 'non-profitVoTech'],\n",
    "                df['FR_fitted'][df['TaxType'] != 'non-profitVoTech'])"
   ]
  },
  {
   "cell_type": "code",
   "execution_count": 15,
   "metadata": {
    "scrolled": false
   },
   "outputs": [
    {
     "name": "stdout",
     "output_type": "stream",
     "text": [
      "         Variable      N      Mean        SD        SE  95% Conf.  Interval\n",
      "0  Profit VoTechs   50.0  1.802506  0.311993  0.044122   1.713839  1.891174\n",
      "1      All others  490.0  1.531199  0.484900  0.021906   1.488159  1.574240\n",
      "2        combined  540.0  1.556320  0.477872  0.020564   1.515924  1.596716\n",
      "                            Independent t-test   results\n",
      "0  Difference (Profit VoTechs - All others) =     0.2713\n",
      "1                        Degrees of freedom =   538.0000\n",
      "2                                         t =     3.8735\n",
      "3                     Two side test p value =     0.0001\n",
      "4                    Difference < 0 p value =     0.9999\n",
      "5                    Difference > 0 p value =     0.0001\n",
      "6                                 Cohen's d =     0.5751\n",
      "7                                 Hedge's g =     0.5743\n",
      "8                            Glass's delta1 =     0.8696\n",
      "9                          Point-Biserial r =     0.1647\n"
     ]
    },
    {
     "name": "stderr",
     "output_type": "stream",
     "text": [
      "C:\\Users\\ekelseya\\anaconda3\\lib\\site-packages\\researchpy\\ttest.py:38: FutureWarning: The series.append method is deprecated and will be removed from pandas in a future version. Use pandas.concat instead.\n",
      "  groups = group1.append(group2, ignore_index= True)\n"
     ]
    }
   ],
   "source": [
    "summary, results = rp.ttest(group1=df['FR_fitted'][df['TaxType'] == 'profitVoTech'], group1_name=\"Profit VoTechs\",\n",
    "                            group2=df['FR_fitted'][df['TaxType'] != 'profitVoTech'], group2_name=\"All others\")\n",
    "print(summary)\n",
    "print(results)"
   ]
  },
  {
   "cell_type": "code",
   "execution_count": 17,
   "metadata": {
    "scrolled": true
   },
   "outputs": [
    {
     "data": {
      "text/plain": [
       "Ttest_indResult(statistic=3.8735117689948066, pvalue=0.0001204922746138038)"
      ]
     },
     "execution_count": 17,
     "metadata": {},
     "output_type": "execute_result"
    }
   ],
   "source": [
    "stats.ttest_ind(df['FR_fitted'][df['TaxType'] == 'profitVoTech'],\n",
    "                df['FR_fitted'][df['TaxType'] != 'profitVoTech'])"
   ]
  },
  {
   "cell_type": "code",
   "execution_count": 18,
   "metadata": {
    "scrolled": false
   },
   "outputs": [
    {
     "name": "stdout",
     "output_type": "stream",
     "text": [
      "             Variable      N      Mean        SD        SE  95% Conf.  \\\n",
      "0  Community Colleges  140.0  1.443374  0.292775  0.024744   1.394451   \n",
      "1          All others  400.0  1.595851  0.522096  0.026105   1.544531   \n",
      "2            combined  540.0  1.556320  0.477872  0.020564   1.515924   \n",
      "\n",
      "   Interval  \n",
      "0  1.492297  \n",
      "1  1.647172  \n",
      "2  1.596716  \n",
      "                                Independent t-test   results\n",
      "0  Difference (Community Colleges - All others) =    -0.1525\n",
      "1                            Degrees of freedom =   538.0000\n",
      "2                                             t =    -3.2786\n",
      "3                         Two side test p value =     0.0011\n",
      "4                        Difference < 0 p value =     0.0006\n",
      "5                        Difference > 0 p value =     0.9994\n",
      "6                                     Cohen's d =    -0.3219\n",
      "7                                     Hedge's g =    -0.3215\n",
      "8                                Glass's delta1 =    -0.5208\n",
      "9                              Point-Biserial r =    -0.1400\n"
     ]
    },
    {
     "name": "stderr",
     "output_type": "stream",
     "text": [
      "C:\\Users\\ekelseya\\anaconda3\\lib\\site-packages\\researchpy\\ttest.py:38: FutureWarning: The series.append method is deprecated and will be removed from pandas in a future version. Use pandas.concat instead.\n",
      "  groups = group1.append(group2, ignore_index= True)\n"
     ]
    }
   ],
   "source": [
    "summary, results = rp.ttest(group1=df['FR_fitted'][df['TaxType'] == 'non-profitCommunity College'], group1_name=\"Community Colleges\",\n",
    "                            group2=df['FR_fitted'][df['TaxType'] != 'non-profitCommunity College'], group2_name=\"All others\")\n",
    "print(summary)\n",
    "print(results)"
   ]
  },
  {
   "cell_type": "code",
   "execution_count": 19,
   "metadata": {
    "scrolled": true
   },
   "outputs": [
    {
     "data": {
      "text/plain": [
       "Ttest_indResult(statistic=-3.278565061641866, pvalue=0.0011107848158906771)"
      ]
     },
     "execution_count": 19,
     "metadata": {},
     "output_type": "execute_result"
    }
   ],
   "source": [
    "stats.ttest_ind(df['FR_fitted'][df['TaxType'] == 'non-profitCommunity College'],\n",
    "                df['FR_fitted'][df['TaxType'] != 'non-profitCommunity College'])"
   ]
  }
 ],
 "metadata": {
  "kernelspec": {
   "display_name": "Python 3",
   "language": "python",
   "name": "python3"
  },
  "language_info": {
   "codemirror_mode": {
    "name": "ipython",
    "version": 3
   },
   "file_extension": ".py",
   "mimetype": "text/x-python",
   "name": "python",
   "nbconvert_exporter": "python",
   "pygments_lexer": "ipython3",
   "version": "3.8.5"
  }
 },
 "nbformat": 4,
 "nbformat_minor": 4
}
