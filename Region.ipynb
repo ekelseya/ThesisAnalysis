{
 "cells": [
  {
   "cell_type": "code",
   "execution_count": 1,
   "metadata": {
    "scrolled": false
   },
   "outputs": [
    {
     "name": "stderr",
     "output_type": "stream",
     "text": [
      "C:\\Users\\ekelseya\\anaconda3\\lib\\site-packages\\statsmodels\\tsa\\base\\tsa_model.py:7: FutureWarning: pandas.Int64Index is deprecated and will be removed from pandas in a future version. Use pandas.Index with the appropriate dtype instead.\n",
      "  from pandas import (to_datetime, Int64Index, DatetimeIndex, Period,\n",
      "C:\\Users\\ekelseya\\anaconda3\\lib\\site-packages\\statsmodels\\tsa\\base\\tsa_model.py:7: FutureWarning: pandas.Float64Index is deprecated and will be removed from pandas in a future version. Use pandas.Index with the appropriate dtype instead.\n",
      "  from pandas import (to_datetime, Int64Index, DatetimeIndex, Period,\n"
     ]
    },
    {
     "data": {
      "text/html": [
       "<div>\n",
       "<style scoped>\n",
       "    .dataframe tbody tr th:only-of-type {\n",
       "        vertical-align: middle;\n",
       "    }\n",
       "\n",
       "    .dataframe tbody tr th {\n",
       "        vertical-align: top;\n",
       "    }\n",
       "\n",
       "    .dataframe thead th {\n",
       "        text-align: right;\n",
       "    }\n",
       "</style>\n",
       "<table border=\"1\" class=\"dataframe\">\n",
       "  <thead>\n",
       "    <tr style=\"text-align: right;\">\n",
       "      <th></th>\n",
       "      <th>Unnamed: 0</th>\n",
       "      <th>Webpage</th>\n",
       "      <th>Page_Type</th>\n",
       "      <th>Institution</th>\n",
       "      <th>Funding</th>\n",
       "      <th>Tax_type</th>\n",
       "      <th>Region</th>\n",
       "      <th>Type</th>\n",
       "      <th>CU</th>\n",
       "      <th>CSU</th>\n",
       "      <th>CS_Department</th>\n",
       "      <th>CCCS</th>\n",
       "      <th>Elements</th>\n",
       "      <th>Errors</th>\n",
       "      <th>FR</th>\n",
       "      <th>FR_fitted</th>\n",
       "    </tr>\n",
       "  </thead>\n",
       "  <tbody>\n",
       "    <tr>\n",
       "      <th>0</th>\n",
       "      <td>0</td>\n",
       "      <td>https://www.adams.edu/</td>\n",
       "      <td>A</td>\n",
       "      <td>Adams State University</td>\n",
       "      <td>public</td>\n",
       "      <td>non-profit</td>\n",
       "      <td>Southwest</td>\n",
       "      <td>University</td>\n",
       "      <td>no</td>\n",
       "      <td>no</td>\n",
       "      <td>yes</td>\n",
       "      <td>no</td>\n",
       "      <td>698</td>\n",
       "      <td>1</td>\n",
       "      <td>0.001433</td>\n",
       "      <td>0.900164</td>\n",
       "    </tr>\n",
       "    <tr>\n",
       "      <th>1</th>\n",
       "      <td>1</td>\n",
       "      <td>https://www.adams.edu/academics/</td>\n",
       "      <td>C</td>\n",
       "      <td>Adams State University</td>\n",
       "      <td>public</td>\n",
       "      <td>non-profit</td>\n",
       "      <td>Southwest</td>\n",
       "      <td>University</td>\n",
       "      <td>no</td>\n",
       "      <td>no</td>\n",
       "      <td>yes</td>\n",
       "      <td>no</td>\n",
       "      <td>729</td>\n",
       "      <td>1</td>\n",
       "      <td>0.001372</td>\n",
       "      <td>0.891194</td>\n",
       "    </tr>\n",
       "    <tr>\n",
       "      <th>2</th>\n",
       "      <td>2</td>\n",
       "      <td>https://www.adams.edu/academics/graduate/couns...</td>\n",
       "      <td>D</td>\n",
       "      <td>Adams State University</td>\n",
       "      <td>public</td>\n",
       "      <td>non-profit</td>\n",
       "      <td>Southwest</td>\n",
       "      <td>University</td>\n",
       "      <td>no</td>\n",
       "      <td>no</td>\n",
       "      <td>yes</td>\n",
       "      <td>no</td>\n",
       "      <td>507</td>\n",
       "      <td>1</td>\n",
       "      <td>0.001972</td>\n",
       "      <td>0.969114</td>\n",
       "    </tr>\n",
       "    <tr>\n",
       "      <th>3</th>\n",
       "      <td>3</td>\n",
       "      <td>https://www.adams.edu/catalog/</td>\n",
       "      <td>C</td>\n",
       "      <td>Adams State University</td>\n",
       "      <td>public</td>\n",
       "      <td>non-profit</td>\n",
       "      <td>Southwest</td>\n",
       "      <td>University</td>\n",
       "      <td>no</td>\n",
       "      <td>no</td>\n",
       "      <td>yes</td>\n",
       "      <td>no</td>\n",
       "      <td>512</td>\n",
       "      <td>1</td>\n",
       "      <td>0.001953</td>\n",
       "      <td>0.966918</td>\n",
       "    </tr>\n",
       "    <tr>\n",
       "      <th>4</th>\n",
       "      <td>4</td>\n",
       "      <td>https://www.adams.edu/faculty-staff/</td>\n",
       "      <td>C</td>\n",
       "      <td>Adams State University</td>\n",
       "      <td>public</td>\n",
       "      <td>non-profit</td>\n",
       "      <td>Southwest</td>\n",
       "      <td>University</td>\n",
       "      <td>no</td>\n",
       "      <td>no</td>\n",
       "      <td>yes</td>\n",
       "      <td>no</td>\n",
       "      <td>645</td>\n",
       "      <td>1</td>\n",
       "      <td>0.001550</td>\n",
       "      <td>0.916706</td>\n",
       "    </tr>\n",
       "  </tbody>\n",
       "</table>\n",
       "</div>"
      ],
      "text/plain": [
       "   Unnamed: 0                                            Webpage Page_Type  \\\n",
       "0           0                             https://www.adams.edu/         A   \n",
       "1           1                   https://www.adams.edu/academics/         C   \n",
       "2           2  https://www.adams.edu/academics/graduate/couns...         D   \n",
       "3           3                     https://www.adams.edu/catalog/         C   \n",
       "4           4               https://www.adams.edu/faculty-staff/         C   \n",
       "\n",
       "              Institution Funding    Tax_type     Region        Type  CU CSU  \\\n",
       "0  Adams State University  public  non-profit  Southwest  University  no  no   \n",
       "1  Adams State University  public  non-profit  Southwest  University  no  no   \n",
       "2  Adams State University  public  non-profit  Southwest  University  no  no   \n",
       "3  Adams State University  public  non-profit  Southwest  University  no  no   \n",
       "4  Adams State University  public  non-profit  Southwest  University  no  no   \n",
       "\n",
       "  CS_Department CCCS  Elements  Errors        FR  FR_fitted  \n",
       "0           yes   no       698       1  0.001433   0.900164  \n",
       "1           yes   no       729       1  0.001372   0.891194  \n",
       "2           yes   no       507       1  0.001972   0.969114  \n",
       "3           yes   no       512       1  0.001953   0.966918  \n",
       "4           yes   no       645       1  0.001550   0.916706  "
      ]
     },
     "execution_count": 1,
     "metadata": {},
     "output_type": "execute_result"
    }
   ],
   "source": [
    "import numpy as np\n",
    "import pandas as pd\n",
    "import statsmodels.api as sm\n",
    "from statsmodels.formula.api import ols\n",
    "import researchpy as rp\n",
    "from scipy import stats\n",
    "from statsmodels.stats.multicomp import pairwise_tukeyhsd\n",
    "\n",
    "# Read in csv\n",
    "df = pd.read_csv('fittedFailureRate.csv', encoding='unicode_escape')\n",
    "df.head()"
   ]
  },
  {
   "cell_type": "code",
   "execution_count": 34,
   "metadata": {},
   "outputs": [
    {
     "name": "stdout",
     "output_type": "stream",
     "text": [
      "  Relative size  Effect size  % below\n",
      "0          None          0.0       50\n",
      "1         Small          0.2       58\n",
      "2        Medium          0.5       69\n",
      "3         Large          0.8       79\n",
      "4  Considerable          1.4       92\n"
     ]
    }
   ],
   "source": [
    "\"\"\"\n",
    "Cohen's d is the effect size when comparing between two means.\n",
    "Effect size = M1 - M2 / Standard Deviation\n",
    "Final column: % of control group below the mean of experimental group\n",
    "\"\"\"\n",
    "\n",
    "cd = {'Relative size': ['None', 'Small', 'Medium', 'Large', 'Considerable'], \n",
    "      'Effect size': [0.0, 0.2, 0.5, 0.8, 1.4],\n",
    "      '% below': [50, 58, 69, 79, 92]}\n",
    "df_cohens = pd.DataFrame(data=cd)\n",
    "print(df_cohens)"
   ]
  },
  {
   "cell_type": "code",
   "execution_count": 15,
   "metadata": {},
   "outputs": [
    {
     "data": {
      "text/plain": [
       "Region\n",
       "Metro            0.032524\n",
       "North Central    0.019011\n",
       "Northeast        0.010455\n",
       "Northwest        0.018777\n",
       "Online           0.014684\n",
       "Pikes Peak       0.011349\n",
       "Southeast        0.006828\n",
       "Southwest        0.004244\n",
       "West Central     0.028983\n",
       "Name: FR, dtype: float64"
      ]
     },
     "execution_count": 15,
     "metadata": {},
     "output_type": "execute_result"
    }
   ],
   "source": [
    "df.groupby('Region')['FR'].mean()"
   ]
  },
  {
   "cell_type": "code",
   "execution_count": 16,
   "metadata": {},
   "outputs": [
    {
     "data": {
      "text/plain": [
       "Region\n",
       "Metro            0.031849\n",
       "North Central    0.024046\n",
       "Northeast        0.004513\n",
       "Northwest        0.010162\n",
       "Online           0.019421\n",
       "Pikes Peak       0.009422\n",
       "Southeast        0.007874\n",
       "Southwest        0.003999\n",
       "West Central     0.033075\n",
       "Name: FR, dtype: float64"
      ]
     },
     "execution_count": 16,
     "metadata": {},
     "output_type": "execute_result"
    }
   ],
   "source": [
    "df.groupby('Region')['FR'].std()"
   ]
  },
  {
   "cell_type": "code",
   "execution_count": 17,
   "metadata": {
    "scrolled": true
   },
   "outputs": [
    {
     "data": {
      "text/plain": [
       "Region\n",
       "Metro            0.001014\n",
       "North Central    0.000578\n",
       "Northeast        0.000020\n",
       "Northwest        0.000103\n",
       "Online           0.000377\n",
       "Pikes Peak       0.000089\n",
       "Southeast        0.000062\n",
       "Southwest        0.000016\n",
       "West Central     0.001094\n",
       "Name: FR, dtype: float64"
      ]
     },
     "execution_count": 17,
     "metadata": {},
     "output_type": "execute_result"
    }
   ],
   "source": [
    "df.groupby('Region')['FR'].var()"
   ]
  },
  {
   "cell_type": "code",
   "execution_count": 18,
   "metadata": {
    "scrolled": false
   },
   "outputs": [
    {
     "data": {
      "text/plain": [
       "Region\n",
       "Metro            310\n",
       "North Central     40\n",
       "Northeast         10\n",
       "Northwest         20\n",
       "Online            20\n",
       "Pikes Peak        60\n",
       "Southeast         20\n",
       "Southwest         30\n",
       "West Central      30\n",
       "Name: FR, dtype: int64"
      ]
     },
     "execution_count": 18,
     "metadata": {},
     "output_type": "execute_result"
    }
   ],
   "source": [
    "df.groupby('Region')['FR'].count()"
   ]
  },
  {
   "cell_type": "code",
   "execution_count": 2,
   "metadata": {},
   "outputs": [
    {
     "name": "stdout",
     "output_type": "stream",
     "text": [
      "       Multiple Comparison of Means - Tukey HSD, FWER=0.05        \n",
      "==================================================================\n",
      "    group1        group2    meandiff p-adj   lower   upper  reject\n",
      "------------------------------------------------------------------\n",
      "        Metro North Central  -0.1835 0.2421 -0.4135  0.0466  False\n",
      "        Metro     Northeast  -0.2891 0.5097  -0.729  0.1509  False\n",
      "        Metro     Northwest  -0.0954    0.9 -0.4114  0.2205  False\n",
      "        Metro        Online  -0.4435  0.001 -0.7594 -0.1275   True\n",
      "        Metro    Pikes Peak   -0.368  0.001 -0.5611 -0.1748   True\n",
      "        Metro     Southeast  -0.4903  0.001 -0.8062 -0.1743   True\n",
      "        Metro     Southwest  -0.6088  0.001 -0.8707  -0.347   True\n",
      "        Metro  West Central  -0.1148    0.9 -0.3767   0.147  False\n",
      "North Central     Northeast  -0.1056    0.9 -0.5898  0.3786  False\n",
      "North Central     Northwest    0.088    0.9  -0.287  0.4631  False\n",
      "North Central        Online    -0.26 0.4372  -0.635   0.115  False\n",
      "North Central    Pikes Peak  -0.1845 0.5039  -0.464   0.095  False\n",
      "North Central     Southeast  -0.3068 0.2118 -0.6818  0.0682  False\n",
      "North Central     Southwest  -0.4254 0.0023 -0.7561 -0.0946   True\n",
      "North Central  West Central   0.0686    0.9 -0.2621  0.3994  False\n",
      "    Northeast     Northwest   0.1936    0.9 -0.3367   0.724  False\n",
      "    Northeast        Online  -0.1544    0.9 -0.6848   0.376  False\n",
      "    Northeast    Pikes Peak  -0.0789    0.9 -0.5467  0.3888  False\n",
      "    Northeast     Southeast  -0.2012    0.9 -0.7316  0.3292  False\n",
      "    Northeast     Southwest  -0.3198 0.5427 -0.8198  0.1803  False\n",
      "    Northeast  West Central   0.1743    0.9 -0.3258  0.6743  False\n",
      "    Northwest        Online   -0.348 0.2328 -0.7811   0.085  False\n",
      "    Northwest    Pikes Peak  -0.2726 0.2857 -0.6261   0.081  False\n",
      "    Northwest     Southeast  -0.3948 0.1065 -0.8279  0.0382  False\n",
      "    Northwest     Southwest  -0.5134  0.002 -0.9087 -0.1181   True\n",
      "    Northwest  West Central  -0.0194    0.9 -0.4147  0.3759  False\n",
      "       Online    Pikes Peak   0.0755    0.9 -0.2781  0.4291  False\n",
      "       Online     Southeast  -0.0468    0.9 -0.4798  0.3862  False\n",
      "       Online     Southwest  -0.1654    0.9 -0.5607  0.2299  False\n",
      "       Online  West Central   0.3286 0.1934 -0.0667   0.724  False\n",
      "   Pikes Peak     Southeast  -0.1223    0.9 -0.4759  0.2313  False\n",
      "   Pikes Peak     Southwest  -0.2408 0.2594 -0.5471  0.0654  False\n",
      "   Pikes Peak  West Central   0.2532 0.1995  -0.053  0.5594  False\n",
      "    Southeast     Southwest  -0.1186    0.9 -0.5139  0.2767  False\n",
      "    Southeast  West Central   0.3754 0.0782 -0.0199  0.7708  False\n",
      "    Southwest  West Central    0.494  0.001  0.1404  0.8476   True\n",
      "------------------------------------------------------------------\n"
     ]
    }
   ],
   "source": [
    "print(pairwise_tukeyhsd(endog=df['FR_fitted'], groups=df['Region'], alpha=0.05))"
   ]
  },
  {
   "cell_type": "code",
   "execution_count": 19,
   "metadata": {
    "scrolled": true
   },
   "outputs": [
    {
     "name": "stdout",
     "output_type": "stream",
     "text": [
      "     Variable      N      Mean        SD        SE  95% Conf.  Interval\n",
      "0       Metro  310.0  1.694469  0.476017  0.027036   1.641271  1.747666\n",
      "1  All others  230.0  1.370120  0.413630  0.027274   1.316380  1.423860\n",
      "2    combined  540.0  1.556320  0.477872  0.020564   1.515924  1.596716\n",
      "                   Independent t-test   results\n",
      "0  Difference (Metro - All others) =     0.3243\n",
      "1               Degrees of freedom =   538.0000\n",
      "2                                t =     8.2727\n",
      "3            Two side test p value =     0.0000\n",
      "4           Difference < 0 p value =     1.0000\n",
      "5           Difference > 0 p value =     0.0000\n",
      "6                        Cohen's d =     0.7199\n",
      "7                        Hedge's g =     0.7189\n",
      "8                   Glass's delta1 =     0.6814\n",
      "9                 Point-Biserial r =     0.3359\n"
     ]
    },
    {
     "name": "stderr",
     "output_type": "stream",
     "text": [
      "C:\\Users\\ekelseya\\anaconda3\\lib\\site-packages\\researchpy\\ttest.py:38: FutureWarning: The series.append method is deprecated and will be removed from pandas in a future version. Use pandas.concat instead.\n",
      "  groups = group1.append(group2, ignore_index= True)\n"
     ]
    }
   ],
   "source": [
    "summary, results = rp.ttest(group1=df['FR_fitted'][df['Region'] == 'Metro'], group1_name=\"Metro\",\n",
    "                            group2=df['FR_fitted'][df['Region'] != 'Metro'], group2_name=\"All others\")\n",
    "print(summary)\n",
    "print(results)\n",
    "\n",
    "# Correlation\n",
    "# > medium effect"
   ]
  },
  {
   "cell_type": "code",
   "execution_count": 20,
   "metadata": {
    "scrolled": true
   },
   "outputs": [
    {
     "data": {
      "text/plain": [
       "Ttest_indResult(statistic=8.272682855077814, pvalue=1.0351723857982042e-15)"
      ]
     },
     "execution_count": 20,
     "metadata": {},
     "output_type": "execute_result"
    }
   ],
   "source": [
    "stats.ttest_ind(df['FR_fitted'][df['Region'] == 'Metro'],\n",
    "                df['FR_fitted'][df['Region'] != 'Metro'])"
   ]
  },
  {
   "cell_type": "code",
   "execution_count": 21,
   "metadata": {
    "scrolled": true
   },
   "outputs": [
    {
     "name": "stdout",
     "output_type": "stream",
     "text": [
      "        Variable      N      Mean        SD        SE  95% Conf.  Interval\n",
      "0  North Central   40.0  1.511005  0.357225  0.056482   1.396759  1.625251\n",
      "1     All others  500.0  1.559946  0.486329  0.021749   1.517214  1.602677\n",
      "2       combined  540.0  1.556320  0.477872  0.020564   1.515924  1.596716\n",
      "                           Independent t-test   results\n",
      "0  Difference (North Central - All others) =    -0.0489\n",
      "1                       Degrees of freedom =   538.0000\n",
      "2                                        t =    -0.6229\n",
      "3                    Two side test p value =     0.5336\n",
      "4                   Difference < 0 p value =     0.2668\n",
      "5                   Difference > 0 p value =     0.7332\n",
      "6                                Cohen's d =    -0.1024\n",
      "7                                Hedge's g =    -0.1022\n",
      "8                           Glass's delta1 =    -0.1370\n",
      "9                         Point-Biserial r =    -0.0268\n"
     ]
    },
    {
     "name": "stderr",
     "output_type": "stream",
     "text": [
      "C:\\Users\\ekelseya\\anaconda3\\lib\\site-packages\\researchpy\\ttest.py:38: FutureWarning: The series.append method is deprecated and will be removed from pandas in a future version. Use pandas.concat instead.\n",
      "  groups = group1.append(group2, ignore_index= True)\n"
     ]
    }
   ],
   "source": [
    "summary, results = rp.ttest(group1=df['FR_fitted'][df['Region'] == 'North Central'], group1_name=\"North Central\",\n",
    "                            group2=df['FR_fitted'][df['Region'] != 'North Central'], group2_name=\"All others\")\n",
    "print(summary)\n",
    "print(results)\n",
    "\n",
    "# No correlation"
   ]
  },
  {
   "cell_type": "code",
   "execution_count": 22,
   "metadata": {
    "scrolled": true
   },
   "outputs": [
    {
     "data": {
      "text/plain": [
       "Ttest_indResult(statistic=-0.6229166136835794, pvalue=0.5336032720586124)"
      ]
     },
     "execution_count": 22,
     "metadata": {},
     "output_type": "execute_result"
    }
   ],
   "source": [
    "stats.ttest_ind(df['FR_fitted'][df['Region'] == 'North Central'],\n",
    "                df['FR_fitted'][df['Region'] != 'North Central'])"
   ]
  },
  {
   "cell_type": "code",
   "execution_count": 24,
   "metadata": {
    "scrolled": true
   },
   "outputs": [
    {
     "name": "stdout",
     "output_type": "stream",
     "text": [
      "     Variable      N      Mean        SD        SE  95% Conf.  Interval\n",
      "0   Northeast   10.0  1.405402  0.154004  0.048700   1.295235  1.515570\n",
      "1  All others  530.0  1.559168  0.481494  0.020915   1.518082  1.600254\n",
      "2    combined  540.0  1.556320  0.477872  0.020564   1.515924  1.596716\n",
      "                       Independent t-test   results\n",
      "0  Difference (Northeast - All others) =    -0.1538\n",
      "1                   Degrees of freedom =   538.0000\n",
      "2                                    t =    -1.0081\n",
      "3                Two side test p value =     0.3139\n",
      "4               Difference < 0 p value =     0.1569\n",
      "5               Difference > 0 p value =     0.8431\n",
      "6                            Cohen's d =    -0.3218\n",
      "7                            Hedge's g =    -0.3213\n",
      "8                       Glass's delta1 =    -0.9985\n",
      "9                     Point-Biserial r =    -0.0434\n"
     ]
    },
    {
     "name": "stderr",
     "output_type": "stream",
     "text": [
      "C:\\Users\\ekelseya\\anaconda3\\lib\\site-packages\\researchpy\\ttest.py:38: FutureWarning: The series.append method is deprecated and will be removed from pandas in a future version. Use pandas.concat instead.\n",
      "  groups = group1.append(group2, ignore_index= True)\n"
     ]
    }
   ],
   "source": [
    "summary, results = rp.ttest(group1=df['FR_fitted'][df['Region'] == 'Northeast'], group1_name=\"Northeast\",\n",
    "                            group2=df['FR_fitted'][df['Region'] != 'Northeast'], group2_name=\"All others\")\n",
    "print(summary)\n",
    "print(results)\n",
    "\n",
    "# No correlation"
   ]
  },
  {
   "cell_type": "code",
   "execution_count": 25,
   "metadata": {
    "scrolled": true
   },
   "outputs": [
    {
     "data": {
      "text/plain": [
       "Ttest_indResult(statistic=-1.008080560012808, pvalue=0.31386895667449)"
      ]
     },
     "execution_count": 25,
     "metadata": {},
     "output_type": "execute_result"
    }
   ],
   "source": [
    "stats.ttest_ind(df['FR_fitted'][df['Region'] == 'Northeast'],\n",
    "                df['FR_fitted'][df['Region'] != 'Northeast'])"
   ]
  },
  {
   "cell_type": "code",
   "execution_count": 28,
   "metadata": {
    "scrolled": true
   },
   "outputs": [
    {
     "name": "stdout",
     "output_type": "stream",
     "text": [
      "     Variable      N      Mean        SD        SE  95% Conf.  Interval\n",
      "0   Northwest   20.0  1.599048  0.205574  0.045968   1.502836  1.695259\n",
      "1  All others  520.0  1.554677  0.485326  0.021283   1.512866  1.596488\n",
      "2    combined  540.0  1.556320  0.477872  0.020564   1.515924  1.596716\n",
      "                       Independent t-test   results\n",
      "0  Difference (Northwest - All others) =     0.0444\n",
      "1                   Degrees of freedom =   538.0000\n",
      "2                                    t =     0.4072\n",
      "3                Two side test p value =     0.6841\n",
      "4               Difference < 0 p value =     0.6580\n",
      "5               Difference > 0 p value =     0.3420\n",
      "6                            Cohen's d =     0.0928\n",
      "7                            Hedge's g =     0.0926\n",
      "8                       Glass's delta1 =     0.2158\n",
      "9                     Point-Biserial r =     0.0176\n"
     ]
    },
    {
     "name": "stderr",
     "output_type": "stream",
     "text": [
      "C:\\Users\\ekelseya\\anaconda3\\lib\\site-packages\\researchpy\\ttest.py:38: FutureWarning: The series.append method is deprecated and will be removed from pandas in a future version. Use pandas.concat instead.\n",
      "  groups = group1.append(group2, ignore_index= True)\n"
     ]
    }
   ],
   "source": [
    "summary, results = rp.ttest(group1=df['FR_fitted'][df['Region'] == 'Northwest'], group1_name=\"Northwest\",\n",
    "                            group2=df['FR_fitted'][df['Region'] != 'Northwest'], group2_name=\"All others\")\n",
    "print(summary)\n",
    "print(results)\n",
    "\n",
    "# No correlation "
   ]
  },
  {
   "cell_type": "code",
   "execution_count": 29,
   "metadata": {
    "scrolled": false
   },
   "outputs": [
    {
     "data": {
      "text/plain": [
       "Ttest_indResult(statistic=0.4071620582738536, pvalue=0.6840509112559108)"
      ]
     },
     "execution_count": 29,
     "metadata": {},
     "output_type": "execute_result"
    }
   ],
   "source": [
    "stats.ttest_ind(df['FR_fitted'][df['Region'] == 'Northwest'],\n",
    "                df['FR_fitted'][df['Region'] != 'Northwest'])"
   ]
  },
  {
   "cell_type": "code",
   "execution_count": 32,
   "metadata": {
    "scrolled": false
   },
   "outputs": [
    {
     "name": "stdout",
     "output_type": "stream",
     "text": [
      "     Variable      N      Mean        SD        SE  95% Conf.  Interval\n",
      "0  All others  520.0  1.568063  0.469701  0.020598   1.527598  1.608528\n",
      "1      Online   20.0  1.251015  0.591601  0.132286   0.974137  1.527892\n",
      "2    combined  540.0  1.556320  0.477872  0.020564   1.515924  1.596716\n",
      "                    Independent t-test   results\n",
      "0  Difference (All others - Online) =     0.3170\n",
      "1                Degrees of freedom =   538.0000\n",
      "2                                 t =     2.9321\n",
      "3             Two side test p value =     0.0035\n",
      "4            Difference < 0 p value =     0.9982\n",
      "5            Difference > 0 p value =     0.0018\n",
      "6                         Cohen's d =     0.6681\n",
      "7                         Hedge's g =     0.6672\n",
      "8                    Glass's delta1 =     0.6750\n",
      "9                  Point-Biserial r =     0.1254\n"
     ]
    },
    {
     "name": "stderr",
     "output_type": "stream",
     "text": [
      "C:\\Users\\ekelseya\\anaconda3\\lib\\site-packages\\researchpy\\ttest.py:38: FutureWarning: The series.append method is deprecated and will be removed from pandas in a future version. Use pandas.concat instead.\n",
      "  groups = group1.append(group2, ignore_index= True)\n"
     ]
    }
   ],
   "source": [
    "summary, results = rp.ttest(group1=df['FR_fitted'][df['Region'] != 'Online'], group1_name=\"All others\",\n",
    "                            group2=df['FR_fitted'][df['Region'] == 'Online'], group2_name=\"Online\")\n",
    "print(summary)\n",
    "print(results)\n",
    "\n",
    "# Correlation \n",
    "# > medium effect"
   ]
  },
  {
   "cell_type": "code",
   "execution_count": 31,
   "metadata": {
    "scrolled": false
   },
   "outputs": [
    {
     "data": {
      "text/plain": [
       "Ttest_indResult(statistic=-2.9320585066701654, pvalue=0.003510541366259111)"
      ]
     },
     "execution_count": 31,
     "metadata": {},
     "output_type": "execute_result"
    }
   ],
   "source": [
    "stats.ttest_ind(df['FR_fitted'][df['Region'] == 'Online'],\n",
    "                df['FR_fitted'][df['Region'] != 'Online'])"
   ]
  },
  {
   "cell_type": "code",
   "execution_count": 33,
   "metadata": {
    "scrolled": false
   },
   "outputs": [
    {
     "name": "stdout",
     "output_type": "stream",
     "text": [
      "     Variable      N      Mean        SD        SE  95% Conf.  Interval\n",
      "0  All others  480.0  1.585050  0.479348  0.021879   1.542059  1.628041\n",
      "1  Pikes Peak   60.0  1.326485  0.400412  0.051693   1.223048  1.429923\n",
      "2    combined  540.0  1.556320  0.477872  0.020564   1.515924  1.596716\n",
      "                        Independent t-test   results\n",
      "0  Difference (All others - Pikes Peak) =     0.2586\n",
      "1                    Degrees of freedom =   538.0000\n",
      "2                                     t =     4.0062\n",
      "3                 Two side test p value =     0.0001\n",
      "4                Difference < 0 p value =     1.0000\n",
      "5                Difference > 0 p value =     0.0000\n",
      "6                             Cohen's d =     0.5486\n",
      "7                             Hedge's g =     0.5478\n",
      "8                        Glass's delta1 =     0.5394\n",
      "9                      Point-Biserial r =     0.1702\n"
     ]
    },
    {
     "name": "stderr",
     "output_type": "stream",
     "text": [
      "C:\\Users\\ekelseya\\anaconda3\\lib\\site-packages\\researchpy\\ttest.py:38: FutureWarning: The series.append method is deprecated and will be removed from pandas in a future version. Use pandas.concat instead.\n",
      "  groups = group1.append(group2, ignore_index= True)\n"
     ]
    }
   ],
   "source": [
    "summary, results = rp.ttest(group1=df['FR_fitted'][df['Region'] != 'Pikes Peak'], group1_name=\"All others\",\n",
    "                            group2=df['FR_fitted'][df['Region'] == 'Pikes Peak'], group2_name=\"Pikes Peak\")\n",
    "print(summary)\n",
    "print(results)\n",
    "\n",
    "# Correlation \n",
    "# ~ medium effect"
   ]
  },
  {
   "cell_type": "code",
   "execution_count": 35,
   "metadata": {
    "scrolled": false
   },
   "outputs": [
    {
     "data": {
      "text/plain": [
       "Ttest_indResult(statistic=-4.006233761844781, pvalue=7.038367542354269e-05)"
      ]
     },
     "execution_count": 35,
     "metadata": {},
     "output_type": "execute_result"
    }
   ],
   "source": [
    "stats.ttest_ind(df['FR_fitted'][df['Region'] == 'Pikes Peak'],\n",
    "                df['FR_fitted'][df['Region'] != 'Pikes Peak'])"
   ]
  },
  {
   "cell_type": "code",
   "execution_count": 36,
   "metadata": {
    "scrolled": true
   },
   "outputs": [
    {
     "name": "stdout",
     "output_type": "stream",
     "text": [
      "     Variable      N      Mean        SD        SE  95% Conf.  Interval\n",
      "0  All others  520.0  1.569863  0.479453  0.021025   1.528557  1.611168\n",
      "1   Southeast   20.0  1.204215  0.252026  0.056355   1.086263  1.322167\n",
      "2    combined  540.0  1.556320  0.477872  0.020564   1.515924  1.596716\n",
      "                       Independent t-test   results\n",
      "0  Difference (All others - Southeast) =     0.3656\n",
      "1                   Degrees of freedom =   538.0000\n",
      "2                                    t =     3.3905\n",
      "3                Two side test p value =     0.0007\n",
      "4               Difference < 0 p value =     0.9996\n",
      "5               Difference > 0 p value =     0.0004\n",
      "6                            Cohen's d =     0.7726\n",
      "7                            Hedge's g =     0.7715\n",
      "8                       Glass's delta1 =     0.7626\n",
      "9                     Point-Biserial r =     0.1446\n"
     ]
    },
    {
     "name": "stderr",
     "output_type": "stream",
     "text": [
      "C:\\Users\\ekelseya\\anaconda3\\lib\\site-packages\\researchpy\\ttest.py:38: FutureWarning: The series.append method is deprecated and will be removed from pandas in a future version. Use pandas.concat instead.\n",
      "  groups = group1.append(group2, ignore_index= True)\n"
     ]
    }
   ],
   "source": [
    "summary, results = rp.ttest(group1=df['FR_fitted'][df['Region'] != 'Southeast'], group1_name=\"All others\",\n",
    "                            group2=df['FR_fitted'][df['Region'] == 'Southeast'], group2_name=\"Southeast\")\n",
    "print(summary)\n",
    "print(results)\n",
    "\n",
    "# Correlation \n",
    "# > medium effect"
   ]
  },
  {
   "cell_type": "code",
   "execution_count": 37,
   "metadata": {
    "scrolled": true
   },
   "outputs": [
    {
     "data": {
      "text/plain": [
       "Ttest_indResult(statistic=-3.3904587160526427, pvalue=0.0007489838714412557)"
      ]
     },
     "execution_count": 37,
     "metadata": {},
     "output_type": "execute_result"
    }
   ],
   "source": [
    "stats.ttest_ind(df['FR_fitted'][df['Region'] == 'Southeast'],\n",
    "                df['FR_fitted'][df['Region'] != 'Southeast'])"
   ]
  },
  {
   "cell_type": "code",
   "execution_count": 38,
   "metadata": {
    "scrolled": true
   },
   "outputs": [
    {
     "name": "stdout",
     "output_type": "stream",
     "text": [
      "     Variable      N      Mean        SD        SE  95% Conf.  Interval\n",
      "0  All others  510.0  1.584007  0.474500  0.021011   1.542728  1.625287\n",
      "1   Southwest   30.0  1.085640  0.223471  0.040800   1.002195  1.169086\n",
      "2    combined  540.0  1.556320  0.477872  0.020564   1.515924  1.596716\n",
      "                       Independent t-test   results\n",
      "0  Difference (All others - Southwest) =     0.4984\n",
      "1                   Degrees of freedom =   538.0000\n",
      "2                                    t =     5.7117\n",
      "3                Two side test p value =     0.0000\n",
      "4               Difference < 0 p value =     1.0000\n",
      "5               Difference > 0 p value =     0.0000\n",
      "6                            Cohen's d =     1.0730\n",
      "7                            Hedge's g =     1.0715\n",
      "8                       Glass's delta1 =     1.0503\n",
      "9                     Point-Biserial r =     0.2391\n"
     ]
    },
    {
     "name": "stderr",
     "output_type": "stream",
     "text": [
      "C:\\Users\\ekelseya\\anaconda3\\lib\\site-packages\\researchpy\\ttest.py:38: FutureWarning: The series.append method is deprecated and will be removed from pandas in a future version. Use pandas.concat instead.\n",
      "  groups = group1.append(group2, ignore_index= True)\n"
     ]
    }
   ],
   "source": [
    "summary, results = rp.ttest(group1=df['FR_fitted'][df['Region'] != 'Southwest'], group1_name=\"All others\",\n",
    "                            group2=df['FR_fitted'][df['Region'] == 'Southwest'], group2_name=\"Southwest\")\n",
    "print(summary)\n",
    "print(results)\n",
    "\n",
    "# Correlation \n",
    "# > large effect (Very large)"
   ]
  },
  {
   "cell_type": "code",
   "execution_count": 39,
   "metadata": {
    "scrolled": true
   },
   "outputs": [
    {
     "data": {
      "text/plain": [
       "Ttest_indResult(statistic=-5.711720100306712, pvalue=1.85225307522225e-08)"
      ]
     },
     "execution_count": 39,
     "metadata": {},
     "output_type": "execute_result"
    }
   ],
   "source": [
    "stats.ttest_ind(df['FR_fitted'][df['Region'] == 'Southwest'],\n",
    "                df['FR_fitted'][df['Region'] != 'Southwest'])"
   ]
  }
 ],
 "metadata": {
  "kernelspec": {
   "display_name": "Python 3",
   "language": "python",
   "name": "python3"
  },
  "language_info": {
   "codemirror_mode": {
    "name": "ipython",
    "version": 3
   },
   "file_extension": ".py",
   "mimetype": "text/x-python",
   "name": "python",
   "nbconvert_exporter": "python",
   "pygments_lexer": "ipython3",
   "version": "3.8.5"
  }
 },
 "nbformat": 4,
 "nbformat_minor": 4
}
